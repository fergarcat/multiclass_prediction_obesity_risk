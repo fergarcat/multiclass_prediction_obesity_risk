{
 "cells": [
  {
   "cell_type": "markdown",
   "metadata": {},
   "source": [
    "# 1. Import Libraries and Load Environment"
   ]
  },
  {
   "cell_type": "code",
   "execution_count": 2,
   "metadata": {},
   "outputs": [
    {
     "name": "stdout",
     "output_type": "stream",
     "text": [
      "Preprocessing pipeline will be saved to: c:\\Users\\Fernando\\VSC\\python\\dev\\p7-1\\multi-class_prediction_obesity_risk\\data\\modeling\\pkl\\preprocessing_pipeline.pkl\n",
      "✅ Preprocessing pipeline saved to: c:\\Users\\Fernando\\VSC\\python\\dev\\p7-1\\multi-class_prediction_obesity_risk\\data\\modeling\\pkl\\preprocessing_pipeline.pkl\n"
     ]
    },
    {
     "name": "stderr",
     "output_type": "stream",
     "text": [
      "c:\\Users\\Fernando\\VSC\\python\\dev\\p7-1\\multi-class_prediction_obesity_risk\\.venv\\Lib\\site-packages\\tqdm\\auto.py:21: TqdmWarning: IProgress not found. Please update jupyter and ipywidgets. See https://ipywidgets.readthedocs.io/en/stable/user_install.html\n",
      "  from .autonotebook import tqdm as notebook_tqdm\n"
     ]
    }
   ],
   "source": [
    "import os\n",
    "import pandas as pd\n",
    "import joblib\n",
    "from sklearn.model_selection import train_test_split\n",
    "from sklearn.ensemble import RandomForestClassifier\n",
    "from sklearn.pipeline import Pipeline\n",
    "from sklearn.metrics import classification_report, confusion_matrix\n",
    "from pipeline_utils import CustomRowTransformer\n",
    "from dotenv import load_dotenv\n",
    "from benchmarks import ml_benchmarks, custom_ml_benchmarks, optimize_xgboost\n",
    "from sklearn.pipeline import Pipeline\n",
    "from sklearn.preprocessing import StandardScaler\n",
    "from sklearn.linear_model import LogisticRegression\n",
    "from xgboost import XGBClassifier\n",
    "import matplotlib.pyplot as plt\n",
    "import numpy as np\n",
    "import os\n",
    "from tabulate import tabulate  \n",
    "load_dotenv()\n",
    "ML_PREPROC_FILENAME = os.getenv(\"ML_PREPROC_FILENAME\")\n",
    "CSV_FOLDER = os.getenv(\"CSV_FOLDER\")\n",
    "CSV_TRAIN_FILENAME = os.getenv(\"CSV_TRAIN_FILENAME\")"
   ]
  },
  {
   "cell_type": "markdown",
   "metadata": {},
   "source": [
    "# 2. Load Data and Preprocess PKL"
   ]
  },
  {
   "cell_type": "code",
   "execution_count": 3,
   "metadata": {},
   "outputs": [
    {
     "name": "stdout",
     "output_type": "stream",
     "text": [
      "CSV path: c:\\Users\\Fernando\\VSC\\python\\dev\\p7-1\\multi-class_prediction_obesity_risk\\data\\.kaggle\\train.csv\n",
      "Preprocessing pipeline path: c:\\Users\\Fernando\\VSC\\python\\dev\\p7-1\\multi-class_prediction_obesity_risk\\data\\modeling\\pkl\\preprocessing_pipeline.pkl\n"
     ]
    }
   ],
   "source": [
    "# Paths\n",
    "current_dir = os.getcwd()\n",
    "parent_dir = os.path.dirname(current_dir)\n",
    "csv_path = os.path.join(parent_dir, \".kaggle\", \"train.csv\")\n",
    "print(f'CSV path: {csv_path}')\n",
    "pre_pkl_path = os.path.join(parent_dir, \"modeling\", \"pkl\", ML_PREPROC_FILENAME)\n",
    "print(f'Preprocessing pipeline path: {pre_pkl_path}')\n",
    "\n",
    "# Load raw data and preprocessing pipeline\n",
    "df = pd.read_csv(csv_path)\n",
    "preprocessing_pipeline = joblib.load(pre_pkl_path)\n"
   ]
  },
  {
   "cell_type": "markdown",
   "metadata": {},
   "source": [
    "# 3. Apply Preprocessing Functions and Split Features"
   ]
  },
  {
   "cell_type": "code",
   "execution_count": 4,
   "metadata": {},
   "outputs": [],
   "source": [
    "# Apply preprocessing\n",
    "df_prepared = preprocessing_pipeline.transform(df)   \n",
    "\n",
    "# Separate features and target\n",
    "X = df_prepared.drop(columns=[\"NObeyesdad\", \"SMOKE\",\"MTRANS\",\"id\"])\n",
    "y = df_prepared[\"NObeyesdad\"]\n",
    "\n"
   ]
  },
  {
   "cell_type": "markdown",
   "metadata": {},
   "source": [
    "# 4. Compare Models Benchmarks"
   ]
  },
  {
   "cell_type": "code",
   "execution_count": 5,
   "metadata": {},
   "outputs": [
    {
     "name": "stderr",
     "output_type": "stream",
     "text": [
      "c:\\Users\\Fernando\\VSC\\python\\dev\\p7-1\\multi-class_prediction_obesity_risk\\.venv\\Lib\\site-packages\\xgboost\\training.py:183: UserWarning: [11:39:01] WARNING: C:\\actions-runner\\_work\\xgboost\\xgboost\\src\\learner.cc:738: \n",
      "Parameters: { \"use_label_encoder\" } are not used.\n",
      "\n",
      "  bst.update(dtrain, iteration=i, fobj=obj)\n"
     ]
    },
    {
     "name": "stdout",
     "output_type": "stream",
     "text": [
      "[LightGBM] [Info] Auto-choosing row-wise multi-threading, the overhead of testing was 0.004827 seconds.\n",
      "You can set `force_row_wise=true` to remove the overhead.\n",
      "And if memory is not enough, you can set `force_col_wise=true`.\n",
      "[LightGBM] [Info] Total Bins 1120\n",
      "[LightGBM] [Info] Number of data points in the train set: 16606, number of used features: 15\n",
      "[LightGBM] [Info] Start training from score -2.107657\n",
      "[LightGBM] [Info] Start training from score -1.907572\n",
      "[LightGBM] [Info] Start training from score -1.964755\n",
      "[LightGBM] [Info] Start training from score -1.855022\n",
      "[LightGBM] [Info] Start training from score -1.635117\n",
      "[LightGBM] [Info] Start training from score -2.146046\n",
      "[LightGBM] [Info] Start training from score -2.107657\n"
     ]
    },
    {
     "name": "stderr",
     "output_type": "stream",
     "text": [
      "c:\\Users\\Fernando\\VSC\\python\\dev\\p7-1\\multi-class_prediction_obesity_risk\\.venv\\Lib\\site-packages\\sklearn\\utils\\validation.py:2739: UserWarning: X does not have valid feature names, but LGBMClassifier was fitted with feature names\n",
      "  warnings.warn(\n",
      "c:\\Users\\Fernando\\VSC\\python\\dev\\p7-1\\multi-class_prediction_obesity_risk\\.venv\\Lib\\site-packages\\sklearn\\utils\\validation.py:2739: UserWarning: X does not have valid feature names, but LGBMClassifier was fitted with feature names\n",
      "  warnings.warn(\n"
     ]
    },
    {
     "name": "stdout",
     "output_type": "stream",
     "text": [
      "+---------------------+--------------------+--------------------+--------------------+--------------------+----------------+-------------+\n",
      "|        Model        |      Accuracy      |     Precision      |       Recall       |      F1-Score      | Train Time (s) | Overfitting |\n",
      "+---------------------+--------------------+--------------------+--------------------+--------------------+----------------+-------------+\n",
      "|       XGBoost       | 0.9072736030828517 | 0.9070431550288031 | 0.9072736030828517 | 0.9070520800655331 |     4.0037     |   0.0769    |\n",
      "|      CatBoost       | 0.9060693641618497 | 0.9055571752237769 | 0.9060693641618497 | 0.9057671655185464 |    71.0523     |   0.0483    |\n",
      "|      LightGBM       | 0.9051059730250481 | 0.904767060264294  | 0.9051059730250481 | 0.904858615859683  |     6.3482     |   0.0711    |\n",
      "|    Random Forest    | 0.9007707129094412 | 0.899991851942915  | 0.9007707129094412 | 0.9002295439946466 |     4.9393     |   0.0991    |\n",
      "|      SVM (RBF)      | 0.8831888246628131 | 0.8822304830819414 | 0.8831888246628131 | 0.8826031033709307 |     9.7318     |   0.0137    |\n",
      "|    SVM (Linear)     | 0.8697013487475915 | 0.8684212142624876 | 0.8697013487475915 | 0.8687769244560287 |     8.3124     |   -0.0029   |\n",
      "| Logistic Regression | 0.8639210019267822 | 0.8623670260449364 | 0.8639210019267822 | 0.8628638587796892 |     0.8063     |   -0.0013   |\n",
      "|    Decision Tree    | 0.8412813102119461 | 0.8415763199482063 | 0.8412813102119461 | 0.8411249168417325 |     0.2886     |   0.1586    |\n",
      "|         KNN         | 0.7935934489402697 | 0.790630977001732  | 0.7935934489402697 | 0.7907663600653316 |     0.1612     |   0.0574    |\n",
      "|     Naive Bayes     | 0.7755298651252408 | 0.7709755178352045 | 0.7755298651252408 | 0.7691401708487299 |     0.0343     |   -0.0024   |\n",
      "+---------------------+--------------------+--------------------+--------------------+--------------------+----------------+-------------+\n"
     ]
    },
    {
     "data": {
      "application/vnd.microsoft.datawrangler.viewer.v0+json": {
       "columns": [
        {
         "name": "index",
         "rawType": "int64",
         "type": "integer"
        },
        {
         "name": "Model",
         "rawType": "object",
         "type": "string"
        },
        {
         "name": "Accuracy",
         "rawType": "float64",
         "type": "float"
        },
        {
         "name": "Precision",
         "rawType": "float64",
         "type": "float"
        },
        {
         "name": "Recall",
         "rawType": "float64",
         "type": "float"
        },
        {
         "name": "F1-Score",
         "rawType": "float64",
         "type": "float"
        },
        {
         "name": "Train Time (s)",
         "rawType": "float64",
         "type": "float"
        },
        {
         "name": "Overfitting",
         "rawType": "float64",
         "type": "float"
        }
       ],
       "ref": "f3d40f86-4d69-4210-9bba-fad0c0d491b6",
       "rows": [
        [
         "7",
         "XGBoost",
         "0.9072736030828517",
         "0.9070431550288031",
         "0.9072736030828517",
         "0.9070520800655331",
         "4.0037",
         "0.0769"
        ],
        [
         "9",
         "CatBoost",
         "0.9060693641618497",
         "0.9055571752237769",
         "0.9060693641618497",
         "0.9057671655185464",
         "71.0523",
         "0.0483"
        ],
        [
         "8",
         "LightGBM",
         "0.9051059730250481",
         "0.904767060264294",
         "0.9051059730250481",
         "0.904858615859683",
         "6.3482",
         "0.0711"
        ],
        [
         "2",
         "Random Forest",
         "0.9007707129094412",
         "0.899991851942915",
         "0.9007707129094412",
         "0.9002295439946466",
         "4.9393",
         "0.0991"
        ],
        [
         "4",
         "SVM (RBF)",
         "0.8831888246628131",
         "0.8822304830819414",
         "0.8831888246628131",
         "0.8826031033709307",
         "9.7318",
         "0.0137"
        ],
        [
         "3",
         "SVM (Linear)",
         "0.8697013487475915",
         "0.8684212142624876",
         "0.8697013487475915",
         "0.8687769244560287",
         "8.3124",
         "-0.0029"
        ],
        [
         "0",
         "Logistic Regression",
         "0.8639210019267822",
         "0.8623670260449364",
         "0.8639210019267822",
         "0.8628638587796892",
         "0.8063",
         "-0.0013"
        ],
        [
         "1",
         "Decision Tree",
         "0.8412813102119461",
         "0.8415763199482063",
         "0.8412813102119461",
         "0.8411249168417325",
         "0.2886",
         "0.1586"
        ],
        [
         "6",
         "KNN",
         "0.7935934489402697",
         "0.790630977001732",
         "0.7935934489402697",
         "0.7907663600653316",
         "0.1612",
         "0.0574"
        ],
        [
         "5",
         "Naive Bayes",
         "0.7755298651252408",
         "0.7709755178352045",
         "0.7755298651252408",
         "0.7691401708487299",
         "0.0343",
         "-0.0024"
        ]
       ],
       "shape": {
        "columns": 7,
        "rows": 10
       }
      },
      "text/html": [
       "<div>\n",
       "<style scoped>\n",
       "    .dataframe tbody tr th:only-of-type {\n",
       "        vertical-align: middle;\n",
       "    }\n",
       "\n",
       "    .dataframe tbody tr th {\n",
       "        vertical-align: top;\n",
       "    }\n",
       "\n",
       "    .dataframe thead th {\n",
       "        text-align: right;\n",
       "    }\n",
       "</style>\n",
       "<table border=\"1\" class=\"dataframe\">\n",
       "  <thead>\n",
       "    <tr style=\"text-align: right;\">\n",
       "      <th></th>\n",
       "      <th>Model</th>\n",
       "      <th>Accuracy</th>\n",
       "      <th>Precision</th>\n",
       "      <th>Recall</th>\n",
       "      <th>F1-Score</th>\n",
       "      <th>Train Time (s)</th>\n",
       "      <th>Overfitting</th>\n",
       "    </tr>\n",
       "  </thead>\n",
       "  <tbody>\n",
       "    <tr>\n",
       "      <th>7</th>\n",
       "      <td>XGBoost</td>\n",
       "      <td>0.907274</td>\n",
       "      <td>0.907043</td>\n",
       "      <td>0.907274</td>\n",
       "      <td>0.907052</td>\n",
       "      <td>4.0037</td>\n",
       "      <td>0.0769</td>\n",
       "    </tr>\n",
       "    <tr>\n",
       "      <th>9</th>\n",
       "      <td>CatBoost</td>\n",
       "      <td>0.906069</td>\n",
       "      <td>0.905557</td>\n",
       "      <td>0.906069</td>\n",
       "      <td>0.905767</td>\n",
       "      <td>71.0523</td>\n",
       "      <td>0.0483</td>\n",
       "    </tr>\n",
       "    <tr>\n",
       "      <th>8</th>\n",
       "      <td>LightGBM</td>\n",
       "      <td>0.905106</td>\n",
       "      <td>0.904767</td>\n",
       "      <td>0.905106</td>\n",
       "      <td>0.904859</td>\n",
       "      <td>6.3482</td>\n",
       "      <td>0.0711</td>\n",
       "    </tr>\n",
       "    <tr>\n",
       "      <th>2</th>\n",
       "      <td>Random Forest</td>\n",
       "      <td>0.900771</td>\n",
       "      <td>0.899992</td>\n",
       "      <td>0.900771</td>\n",
       "      <td>0.900230</td>\n",
       "      <td>4.9393</td>\n",
       "      <td>0.0991</td>\n",
       "    </tr>\n",
       "    <tr>\n",
       "      <th>4</th>\n",
       "      <td>SVM (RBF)</td>\n",
       "      <td>0.883189</td>\n",
       "      <td>0.882230</td>\n",
       "      <td>0.883189</td>\n",
       "      <td>0.882603</td>\n",
       "      <td>9.7318</td>\n",
       "      <td>0.0137</td>\n",
       "    </tr>\n",
       "    <tr>\n",
       "      <th>3</th>\n",
       "      <td>SVM (Linear)</td>\n",
       "      <td>0.869701</td>\n",
       "      <td>0.868421</td>\n",
       "      <td>0.869701</td>\n",
       "      <td>0.868777</td>\n",
       "      <td>8.3124</td>\n",
       "      <td>-0.0029</td>\n",
       "    </tr>\n",
       "    <tr>\n",
       "      <th>0</th>\n",
       "      <td>Logistic Regression</td>\n",
       "      <td>0.863921</td>\n",
       "      <td>0.862367</td>\n",
       "      <td>0.863921</td>\n",
       "      <td>0.862864</td>\n",
       "      <td>0.8063</td>\n",
       "      <td>-0.0013</td>\n",
       "    </tr>\n",
       "    <tr>\n",
       "      <th>1</th>\n",
       "      <td>Decision Tree</td>\n",
       "      <td>0.841281</td>\n",
       "      <td>0.841576</td>\n",
       "      <td>0.841281</td>\n",
       "      <td>0.841125</td>\n",
       "      <td>0.2886</td>\n",
       "      <td>0.1586</td>\n",
       "    </tr>\n",
       "    <tr>\n",
       "      <th>6</th>\n",
       "      <td>KNN</td>\n",
       "      <td>0.793593</td>\n",
       "      <td>0.790631</td>\n",
       "      <td>0.793593</td>\n",
       "      <td>0.790766</td>\n",
       "      <td>0.1612</td>\n",
       "      <td>0.0574</td>\n",
       "    </tr>\n",
       "    <tr>\n",
       "      <th>5</th>\n",
       "      <td>Naive Bayes</td>\n",
       "      <td>0.775530</td>\n",
       "      <td>0.770976</td>\n",
       "      <td>0.775530</td>\n",
       "      <td>0.769140</td>\n",
       "      <td>0.0343</td>\n",
       "      <td>-0.0024</td>\n",
       "    </tr>\n",
       "  </tbody>\n",
       "</table>\n",
       "</div>"
      ],
      "text/plain": [
       "                 Model  Accuracy  Precision    Recall  F1-Score  \\\n",
       "7              XGBoost  0.907274   0.907043  0.907274  0.907052   \n",
       "9             CatBoost  0.906069   0.905557  0.906069  0.905767   \n",
       "8             LightGBM  0.905106   0.904767  0.905106  0.904859   \n",
       "2        Random Forest  0.900771   0.899992  0.900771  0.900230   \n",
       "4            SVM (RBF)  0.883189   0.882230  0.883189  0.882603   \n",
       "3         SVM (Linear)  0.869701   0.868421  0.869701  0.868777   \n",
       "0  Logistic Regression  0.863921   0.862367  0.863921  0.862864   \n",
       "1        Decision Tree  0.841281   0.841576  0.841281  0.841125   \n",
       "6                  KNN  0.793593   0.790631  0.793593  0.790766   \n",
       "5          Naive Bayes  0.775530   0.770976  0.775530  0.769140   \n",
       "\n",
       "   Train Time (s)  Overfitting  \n",
       "7          4.0037       0.0769  \n",
       "9         71.0523       0.0483  \n",
       "8          6.3482       0.0711  \n",
       "2          4.9393       0.0991  \n",
       "4          9.7318       0.0137  \n",
       "3          8.3124      -0.0029  \n",
       "0          0.8063      -0.0013  \n",
       "1          0.2886       0.1586  \n",
       "6          0.1612       0.0574  \n",
       "5          0.0343      -0.0024  "
      ]
     },
     "execution_count": 5,
     "metadata": {},
     "output_type": "execute_result"
    }
   ],
   "source": [
    "ml_benchmarks(X, y)"
   ]
  },
  {
   "cell_type": "markdown",
   "metadata": {},
   "source": [
    "# 5. Try Custom Hyperparameters\n",
    "As seen in benchmarking, XGBoost and Logistic Regression are the best performing models.\n",
    "Now we will try to create a custom pipeline for each of them and see if we can get better results."
   ]
  },
  {
   "cell_type": "code",
   "execution_count": 6,
   "metadata": {},
   "outputs": [],
   "source": [
    "custom_pipelines = {\n",
    "    'XGBoost (Ajustado)': Pipeline([\n",
    "        ('scaler', StandardScaler()),\n",
    "        ('clf', XGBClassifier(\n",
    "            n_estimators=150,\n",
    "            max_depth=4,\n",
    "            learning_rate=0.07,\n",
    "            subsample=0.9,\n",
    "            colsample_bytree=0.9,\n",
    "            reg_alpha=0.5,\n",
    "            reg_lambda=0.7,\n",
    "            use_label_encoder=False,\n",
    "            eval_metric='mlogloss',\n",
    "            random_state=42\n",
    "        ))\n",
    "    ]),\n",
    "\n",
    "    'Logistic Regression (Ajustado)': Pipeline([\n",
    "        ('scaler', StandardScaler()),\n",
    "        ('clf', LogisticRegression(\n",
    "            C= 20.0,  # <--- Aumentado desde 1.0 para reducir la regularización\n",
    "            penalty='l2',\n",
    "            class_weight='balanced',\n",
    "            max_iter=1000,\n",
    "            solver='lbfgs',\n",
    "            random_state=42\n",
    "        ))\n",
    "    ])\n",
    "}"
   ]
  },
  {
   "cell_type": "code",
   "execution_count": 7,
   "metadata": {},
   "outputs": [
    {
     "name": "stderr",
     "output_type": "stream",
     "text": [
      "c:\\Users\\Fernando\\VSC\\python\\dev\\p7-1\\multi-class_prediction_obesity_risk\\.venv\\Lib\\site-packages\\xgboost\\training.py:183: UserWarning: [11:40:26] WARNING: C:\\actions-runner\\_work\\xgboost\\xgboost\\src\\learner.cc:738: \n",
      "Parameters: { \"use_label_encoder\" } are not used.\n",
      "\n",
      "  bst.update(dtrain, iteration=i, fobj=obj)\n"
     ]
    },
    {
     "name": "stdout",
     "output_type": "stream",
     "text": [
      "+--------------------------------+--------------------+--------------------+--------------------+--------------------+----------------+-------------+\n",
      "|             Model              |      Accuracy      |     Precision      |       Recall       |      F1-Score      | Train Time (s) | Overfitting |\n",
      "+--------------------------------+--------------------+--------------------+--------------------+--------------------+----------------+-------------+\n",
      "|       XGBoost (Ajustado)       | 0.9053468208092486 | 0.9048472242502588 | 0.9053468208092486 | 0.9049623394462658 |     8.7642     |   0.0097    |\n",
      "| Logistic Regression (Ajustado) | 0.8639210019267822 | 0.8639142688637425 | 0.8639210019267822 | 0.8633476011203041 |     1.8538     |   0.0002    |\n",
      "+--------------------------------+--------------------+--------------------+--------------------+--------------------+----------------+-------------+\n"
     ]
    }
   ],
   "source": [
    "results_df = custom_ml_benchmarks(X, y, models_dict=custom_pipelines)"
   ]
  },
  {
   "cell_type": "markdown",
   "metadata": {},
   "source": [
    "XGBoost seems to be the best performing model, so we will try to create a custom pipeline for it."
   ]
  },
  {
   "cell_type": "markdown",
   "metadata": {},
   "source": [
    "# 6. Xgboost Pipeline Improvement"
   ]
  },
  {
   "cell_type": "code",
   "execution_count": 8,
   "metadata": {},
   "outputs": [
    {
     "name": "stderr",
     "output_type": "stream",
     "text": [
      "[I 2025-05-23 11:40:37,665] A new study created in memory with name: no-name-d038c3f7-0be0-4520-aae7-daa967881491\n"
     ]
    },
    {
     "name": "stderr",
     "output_type": "stream",
     "text": [
      "c:\\Users\\Fernando\\VSC\\python\\dev\\p7-1\\multi-class_prediction_obesity_risk\\.venv\\Lib\\site-packages\\xgboost\\training.py:183: UserWarning: [11:40:37] WARNING: C:\\actions-runner\\_work\\xgboost\\xgboost\\src\\learner.cc:738: \n",
      "Parameters: { \"use_label_encoder\" } are not used.\n",
      "\n",
      "  bst.update(dtrain, iteration=i, fobj=obj)\n",
      "[I 2025-05-23 11:40:43,400] Trial 0 finished with value: 0.9041425818882466 and parameters: {'n_estimators': 128, 'max_depth': 9, 'learning_rate': 0.15180803502491189, 'subsample': 0.9593591807504718, 'colsample_bytree': 0.5983959764282759, 'gamma': 1.859982677685244, 'reg_alpha': 0.18142782703197724, 'reg_lambda': 0.7115595679257902}. Best is trial 0 with value: 0.9041425818882466.\n",
      "c:\\Users\\Fernando\\VSC\\python\\dev\\p7-1\\multi-class_prediction_obesity_risk\\.venv\\Lib\\site-packages\\xgboost\\training.py:183: UserWarning: [11:40:43] WARNING: C:\\actions-runner\\_work\\xgboost\\xgboost\\src\\learner.cc:738: \n",
      "Parameters: { \"use_label_encoder\" } are not used.\n",
      "\n",
      "  bst.update(dtrain, iteration=i, fobj=obj)\n",
      "[I 2025-05-23 11:40:51,076] Trial 1 finished with value: 0.9002890173410405 and parameters: {'n_estimators': 231, 'max_depth': 7, 'learning_rate': 0.12914485479958923, 'subsample': 0.928782733331587, 'colsample_bytree': 0.8273300730220686, 'gamma': 4.1359921856277095, 'reg_alpha': 0.8557179844413312, 'reg_lambda': 0.4904249369708299}. Best is trial 0 with value: 0.9041425818882466.\n",
      "c:\\Users\\Fernando\\VSC\\python\\dev\\p7-1\\multi-class_prediction_obesity_risk\\.venv\\Lib\\site-packages\\xgboost\\training.py:183: UserWarning: [11:40:51] WARNING: C:\\actions-runner\\_work\\xgboost\\xgboost\\src\\learner.cc:738: \n",
      "Parameters: { \"use_label_encoder\" } are not used.\n",
      "\n",
      "  bst.update(dtrain, iteration=i, fobj=obj)\n",
      "[I 2025-05-23 11:41:01,341] Trial 2 finished with value: 0.9019749518304432 and parameters: {'n_estimators': 295, 'max_depth': 3, 'learning_rate': 0.10135809915703878, 'subsample': 0.6062177518538845, 'colsample_bytree': 0.8734344105737509, 'gamma': 2.029570268024468, 'reg_alpha': 0.7896375167188739, 'reg_lambda': 0.9435325441166792}. Best is trial 0 with value: 0.9041425818882466.\n",
      "c:\\Users\\Fernando\\VSC\\python\\dev\\p7-1\\multi-class_prediction_obesity_risk\\.venv\\Lib\\site-packages\\xgboost\\training.py:183: UserWarning: [11:41:01] WARNING: C:\\actions-runner\\_work\\xgboost\\xgboost\\src\\learner.cc:738: \n",
      "Parameters: { \"use_label_encoder\" } are not used.\n",
      "\n",
      "  bst.update(dtrain, iteration=i, fobj=obj)\n",
      "[I 2025-05-23 11:41:07,306] Trial 3 finished with value: 0.901252408477842 and parameters: {'n_estimators': 182, 'max_depth': 6, 'learning_rate': 0.23287686696769358, 'subsample': 0.7628875738665407, 'colsample_bytree': 0.6547205593636511, 'gamma': 3.4131773277228876, 'reg_alpha': 0.22301810607993278, 'reg_lambda': 0.11799797405459889}. Best is trial 0 with value: 0.9041425818882466.\n",
      "c:\\Users\\Fernando\\VSC\\python\\dev\\p7-1\\multi-class_prediction_obesity_risk\\.venv\\Lib\\site-packages\\xgboost\\training.py:183: UserWarning: [11:41:07] WARNING: C:\\actions-runner\\_work\\xgboost\\xgboost\\src\\learner.cc:738: \n",
      "Parameters: { \"use_label_encoder\" } are not used.\n",
      "\n",
      "  bst.update(dtrain, iteration=i, fobj=obj)\n",
      "[I 2025-05-23 11:41:10,585] Trial 4 finished with value: 0.8983622350674374 and parameters: {'n_estimators': 98, 'max_depth': 5, 'learning_rate': 0.23630127786934657, 'subsample': 0.8941286865078256, 'colsample_bytree': 0.8490382551678496, 'gamma': 3.8015479367915344, 'reg_alpha': 0.8741820439207395, 'reg_lambda': 0.6634923293150167}. Best is trial 0 with value: 0.9041425818882466.\n",
      "c:\\Users\\Fernando\\VSC\\python\\dev\\p7-1\\multi-class_prediction_obesity_risk\\.venv\\Lib\\site-packages\\xgboost\\training.py:183: UserWarning: [11:41:10] WARNING: C:\\actions-runner\\_work\\xgboost\\xgboost\\src\\learner.cc:738: \n",
      "Parameters: { \"use_label_encoder\" } are not used.\n",
      "\n",
      "  bst.update(dtrain, iteration=i, fobj=obj)\n",
      "[I 2025-05-23 11:41:15,141] Trial 5 finished with value: 0.9075144508670521 and parameters: {'n_estimators': 120, 'max_depth': 5, 'learning_rate': 0.19384481338625326, 'subsample': 0.7862929747421661, 'colsample_bytree': 0.5851911646810299, 'gamma': 0.8963074515354891, 'reg_alpha': 0.7079331821882893, 'reg_lambda': 0.7659192149033911}. Best is trial 5 with value: 0.9075144508670521.\n",
      "c:\\Users\\Fernando\\VSC\\python\\dev\\p7-1\\multi-class_prediction_obesity_risk\\.venv\\Lib\\site-packages\\xgboost\\training.py:183: UserWarning: [11:41:15] WARNING: C:\\actions-runner\\_work\\xgboost\\xgboost\\src\\learner.cc:738: \n",
      "Parameters: { \"use_label_encoder\" } are not used.\n",
      "\n",
      "  bst.update(dtrain, iteration=i, fobj=obj)\n",
      "[I 2025-05-23 11:41:27,914] Trial 6 finished with value: 0.9053468208092486 and parameters: {'n_estimators': 275, 'max_depth': 10, 'learning_rate': 0.06566098346287223, 'subsample': 0.9855697337082199, 'colsample_bytree': 0.8151288208150278, 'gamma': 0.4255974008044616, 'reg_alpha': 0.3315720810194799, 'reg_lambda': 0.7313481540220644}. Best is trial 5 with value: 0.9075144508670521.\n",
      "c:\\Users\\Fernando\\VSC\\python\\dev\\p7-1\\multi-class_prediction_obesity_risk\\.venv\\Lib\\site-packages\\xgboost\\training.py:183: UserWarning: [11:41:28] WARNING: C:\\actions-runner\\_work\\xgboost\\xgboost\\src\\learner.cc:738: \n",
      "Parameters: { \"use_label_encoder\" } are not used.\n",
      "\n",
      "  bst.update(dtrain, iteration=i, fobj=obj)\n",
      "[I 2025-05-23 11:41:36,081] Trial 7 finished with value: 0.8998073217726397 and parameters: {'n_estimators': 275, 'max_depth': 7, 'learning_rate': 0.28304785976107355, 'subsample': 0.845186718143901, 'colsample_bytree': 0.5573735543822023, 'gamma': 3.5579122783849435, 'reg_alpha': 0.15332027272416504, 'reg_lambda': 0.6213022725385546}. Best is trial 5 with value: 0.9075144508670521.\n",
      "c:\\Users\\Fernando\\VSC\\python\\dev\\p7-1\\multi-class_prediction_obesity_risk\\.venv\\Lib\\site-packages\\xgboost\\training.py:183: UserWarning: [11:41:36] WARNING: C:\\actions-runner\\_work\\xgboost\\xgboost\\src\\learner.cc:738: \n",
      "Parameters: { \"use_label_encoder\" } are not used.\n",
      "\n",
      "  bst.update(dtrain, iteration=i, fobj=obj)\n",
      "[I 2025-05-23 11:41:39,351] Trial 8 finished with value: 0.904383429672447 and parameters: {'n_estimators': 72, 'max_depth': 9, 'learning_rate': 0.18098662865374743, 'subsample': 0.5358719601936912, 'colsample_bytree': 0.9901477599126393, 'gamma': 1.6913630404533202, 'reg_alpha': 0.8403765829135872, 'reg_lambda': 0.9233449774587517}. Best is trial 5 with value: 0.9075144508670521.\n",
      "c:\\Users\\Fernando\\VSC\\python\\dev\\p7-1\\multi-class_prediction_obesity_risk\\.venv\\Lib\\site-packages\\xgboost\\training.py:183: UserWarning: [11:41:39] WARNING: C:\\actions-runner\\_work\\xgboost\\xgboost\\src\\learner.cc:738: \n",
      "Parameters: { \"use_label_encoder\" } are not used.\n",
      "\n",
      "  bst.update(dtrain, iteration=i, fobj=obj)\n",
      "[I 2025-05-23 11:41:43,240] Trial 9 finished with value: 0.9019749518304432 and parameters: {'n_estimators': 110, 'max_depth': 5, 'learning_rate': 0.24113035792330942, 'subsample': 0.8122241903426586, 'colsample_bytree': 0.7156406940712726, 'gamma': 3.3140779557468534, 'reg_alpha': 0.018146147160581716, 'reg_lambda': 0.8628345555511547}. Best is trial 5 with value: 0.9075144508670521.\n",
      "c:\\Users\\Fernando\\VSC\\python\\dev\\p7-1\\multi-class_prediction_obesity_risk\\.venv\\Lib\\site-packages\\xgboost\\training.py:183: UserWarning: [11:41:43] WARNING: C:\\actions-runner\\_work\\xgboost\\xgboost\\src\\learner.cc:738: \n",
      "Parameters: { \"use_label_encoder\" } are not used.\n",
      "\n",
      "  bst.update(dtrain, iteration=i, fobj=obj)\n",
      "[I 2025-05-23 11:41:50,289] Trial 10 finished with value: 0.8882466281310212 and parameters: {'n_estimators': 169, 'max_depth': 3, 'learning_rate': 0.038970939558202855, 'subsample': 0.659412330388854, 'colsample_bytree': 0.5088947800856395, 'gamma': 0.03795370157294897, 'reg_alpha': 0.6294121744698833, 'reg_lambda': 0.36099906697638384}. Best is trial 5 with value: 0.9075144508670521.\n",
      "c:\\Users\\Fernando\\VSC\\python\\dev\\p7-1\\multi-class_prediction_obesity_risk\\.venv\\Lib\\site-packages\\xgboost\\training.py:183: UserWarning: [11:41:50] WARNING: C:\\actions-runner\\_work\\xgboost\\xgboost\\src\\learner.cc:738: \n",
      "Parameters: { \"use_label_encoder\" } are not used.\n",
      "\n",
      "  bst.update(dtrain, iteration=i, fobj=obj)\n",
      "[I 2025-05-23 11:42:03,723] Trial 11 finished with value: 0.9019749518304432 and parameters: {'n_estimators': 171, 'max_depth': 10, 'learning_rate': 0.015606717384583801, 'subsample': 0.6945341027535191, 'colsample_bytree': 0.7456104283833612, 'gamma': 0.28457992492557194, 'reg_alpha': 0.4307498913590295, 'reg_lambda': 0.7797656346216427}. Best is trial 5 with value: 0.9075144508670521.\n",
      "c:\\Users\\Fernando\\VSC\\python\\dev\\p7-1\\multi-class_prediction_obesity_risk\\.venv\\Lib\\site-packages\\xgboost\\training.py:183: UserWarning: [11:42:03] WARNING: C:\\actions-runner\\_work\\xgboost\\xgboost\\src\\learner.cc:738: \n",
      "Parameters: { \"use_label_encoder\" } are not used.\n",
      "\n",
      "  bst.update(dtrain, iteration=i, fobj=obj)\n",
      "[I 2025-05-23 11:42:13,280] Trial 12 finished with value: 0.905587668593449 and parameters: {'n_estimators': 236, 'max_depth': 5, 'learning_rate': 0.07254937158345051, 'subsample': 0.9912372286660054, 'colsample_bytree': 0.6540477131348594, 'gamma': 0.9320663328897572, 'reg_alpha': 0.506397317124237, 'reg_lambda': 0.4787628519408632}. Best is trial 5 with value: 0.9075144508670521.\n",
      "c:\\Users\\Fernando\\VSC\\python\\dev\\p7-1\\multi-class_prediction_obesity_risk\\.venv\\Lib\\site-packages\\xgboost\\training.py:183: UserWarning: [11:42:13] WARNING: C:\\actions-runner\\_work\\xgboost\\xgboost\\src\\learner.cc:738: \n",
      "Parameters: { \"use_label_encoder\" } are not used.\n",
      "\n",
      "  bst.update(dtrain, iteration=i, fobj=obj)\n",
      "[I 2025-05-23 11:42:21,222] Trial 13 finished with value: 0.9075144508670521 and parameters: {'n_estimators': 226, 'max_depth': 5, 'learning_rate': 0.19690436527782093, 'subsample': 0.8558839118281794, 'colsample_bytree': 0.652614440959976, 'gamma': 1.0781950706012284, 'reg_alpha': 0.6440129305436139, 'reg_lambda': 0.3428593671168842}. Best is trial 5 with value: 0.9075144508670521.\n",
      "c:\\Users\\Fernando\\VSC\\python\\dev\\p7-1\\multi-class_prediction_obesity_risk\\.venv\\Lib\\site-packages\\xgboost\\training.py:183: UserWarning: [11:42:21] WARNING: C:\\actions-runner\\_work\\xgboost\\xgboost\\src\\learner.cc:738: \n",
      "Parameters: { \"use_label_encoder\" } are not used.\n",
      "\n",
      "  bst.update(dtrain, iteration=i, fobj=obj)\n",
      "[I 2025-05-23 11:42:28,758] Trial 14 finished with value: 0.9104046242774566 and parameters: {'n_estimators': 215, 'max_depth': 4, 'learning_rate': 0.18390651728262733, 'subsample': 0.7754818942739555, 'colsample_bytree': 0.6353648798632668, 'gamma': 1.0034864675135238, 'reg_alpha': 0.6422418745417106, 'reg_lambda': 0.23188056408298863}. Best is trial 14 with value: 0.9104046242774566.\n",
      "c:\\Users\\Fernando\\VSC\\python\\dev\\p7-1\\multi-class_prediction_obesity_risk\\.venv\\Lib\\site-packages\\xgboost\\training.py:183: UserWarning: [11:42:28] WARNING: C:\\actions-runner\\_work\\xgboost\\xgboost\\src\\learner.cc:738: \n",
      "Parameters: { \"use_label_encoder\" } are not used.\n",
      "\n",
      "  bst.update(dtrain, iteration=i, fobj=obj)\n",
      "[I 2025-05-23 11:42:31,233] Trial 15 finished with value: 0.8988439306358381 and parameters: {'n_estimators': 50, 'max_depth': 4, 'learning_rate': 0.18859085817474527, 'subsample': 0.759877421220614, 'colsample_bytree': 0.5830877500642306, 'gamma': 2.6359720656257584, 'reg_alpha': 0.6769718912744247, 'reg_lambda': 0.1677506854485547}. Best is trial 14 with value: 0.9104046242774566.\n",
      "c:\\Users\\Fernando\\VSC\\python\\dev\\p7-1\\multi-class_prediction_obesity_risk\\.venv\\Lib\\site-packages\\xgboost\\training.py:183: UserWarning: [11:42:31] WARNING: C:\\actions-runner\\_work\\xgboost\\xgboost\\src\\learner.cc:738: \n",
      "Parameters: { \"use_label_encoder\" } are not used.\n",
      "\n",
      "  bst.update(dtrain, iteration=i, fobj=obj)\n",
      "[I 2025-05-23 11:42:36,800] Trial 16 finished with value: 0.9058285163776493 and parameters: {'n_estimators': 151, 'max_depth': 4, 'learning_rate': 0.2895213458196101, 'subsample': 0.6985203353833063, 'colsample_bytree': 0.5295100305350462, 'gamma': 1.130236008107965, 'reg_alpha': 0.9695821264862627, 'reg_lambda': 0.2563340542673716}. Best is trial 14 with value: 0.9104046242774566.\n",
      "c:\\Users\\Fernando\\VSC\\python\\dev\\p7-1\\multi-class_prediction_obesity_risk\\.venv\\Lib\\site-packages\\xgboost\\training.py:183: UserWarning: [11:42:37] WARNING: C:\\actions-runner\\_work\\xgboost\\xgboost\\src\\learner.cc:738: \n",
      "Parameters: { \"use_label_encoder\" } are not used.\n",
      "\n",
      "  bst.update(dtrain, iteration=i, fobj=obj)\n",
      "[I 2025-05-23 11:42:43,267] Trial 17 finished with value: 0.9039017341040463 and parameters: {'n_estimators': 194, 'max_depth': 6, 'learning_rate': 0.15190315971566842, 'subsample': 0.8038679785330309, 'colsample_bytree': 0.707077870060233, 'gamma': 2.4869412798438373, 'reg_alpha': 0.5287032034204017, 'reg_lambda': 0.014045907373977706}. Best is trial 14 with value: 0.9104046242774566.\n",
      "c:\\Users\\Fernando\\VSC\\python\\dev\\p7-1\\multi-class_prediction_obesity_risk\\.venv\\Lib\\site-packages\\xgboost\\training.py:183: UserWarning: [11:42:43] WARNING: C:\\actions-runner\\_work\\xgboost\\xgboost\\src\\learner.cc:738: \n",
      "Parameters: { \"use_label_encoder\" } are not used.\n",
      "\n",
      "  bst.update(dtrain, iteration=i, fobj=obj)\n",
      "[I 2025-05-23 11:42:48,401] Trial 18 finished with value: 0.8952312138728323 and parameters: {'n_estimators': 140, 'max_depth': 4, 'learning_rate': 0.11441849530322952, 'subsample': 0.6226595182550292, 'colsample_bytree': 0.6058284792485863, 'gamma': 4.590683705593394, 'reg_alpha': 0.7488070258949358, 'reg_lambda': 0.5879481390820531}. Best is trial 14 with value: 0.9104046242774566.\n",
      "c:\\Users\\Fernando\\VSC\\python\\dev\\p7-1\\multi-class_prediction_obesity_risk\\.venv\\Lib\\site-packages\\xgboost\\training.py:183: UserWarning: [11:42:48] WARNING: C:\\actions-runner\\_work\\xgboost\\xgboost\\src\\learner.cc:738: \n",
      "Parameters: { \"use_label_encoder\" } are not used.\n",
      "\n",
      "  bst.update(dtrain, iteration=i, fobj=obj)\n",
      "[I 2025-05-23 11:42:56,513] Trial 19 finished with value: 0.9111271676300579 and parameters: {'n_estimators': 206, 'max_depth': 8, 'learning_rate': 0.21067504181710914, 'subsample': 0.7123373315925906, 'colsample_bytree': 0.6382730600152178, 'gamma': 0.6698678569698882, 'reg_alpha': 0.41446641865247813, 'reg_lambda': 0.40076647062736903}. Best is trial 19 with value: 0.9111271676300579.\n",
      "c:\\Users\\Fernando\\VSC\\python\\dev\\p7-1\\multi-class_prediction_obesity_risk\\.venv\\Lib\\site-packages\\xgboost\\training.py:183: UserWarning: [11:42:56] WARNING: C:\\actions-runner\\_work\\xgboost\\xgboost\\src\\learner.cc:738: \n",
      "Parameters: { \"use_label_encoder\" } are not used.\n",
      "\n",
      "  bst.update(dtrain, iteration=i, fobj=obj)\n",
      "[I 2025-05-23 11:43:05,823] Trial 20 finished with value: 0.9065510597302505 and parameters: {'n_estimators': 224, 'max_depth': 8, 'learning_rate': 0.26386473361108914, 'subsample': 0.5155088762369806, 'colsample_bytree': 0.7737079954607395, 'gamma': 0.5816086819649535, 'reg_alpha': 0.3700400689855568, 'reg_lambda': 0.39167623967764925}. Best is trial 19 with value: 0.9111271676300579.\n",
      "c:\\Users\\Fernando\\VSC\\python\\dev\\p7-1\\multi-class_prediction_obesity_risk\\.venv\\Lib\\site-packages\\xgboost\\training.py:183: UserWarning: [11:43:06] WARNING: C:\\actions-runner\\_work\\xgboost\\xgboost\\src\\learner.cc:738: \n",
      "Parameters: { \"use_label_encoder\" } are not used.\n",
      "\n",
      "  bst.update(dtrain, iteration=i, fobj=obj)\n",
      "[I 2025-05-23 11:43:13,104] Trial 21 finished with value: 0.9077552986512524 and parameters: {'n_estimators': 202, 'max_depth': 8, 'learning_rate': 0.2099514678330829, 'subsample': 0.7062886337184135, 'colsample_bytree': 0.6275843109882551, 'gamma': 1.4507100501521542, 'reg_alpha': 0.5586468727644266, 'reg_lambda': 0.24307036799784876}. Best is trial 19 with value: 0.9111271676300579.\n",
      "c:\\Users\\Fernando\\VSC\\python\\dev\\p7-1\\multi-class_prediction_obesity_risk\\.venv\\Lib\\site-packages\\xgboost\\training.py:183: UserWarning: [11:43:13] WARNING: C:\\actions-runner\\_work\\xgboost\\xgboost\\src\\learner.cc:738: \n",
      "Parameters: { \"use_label_encoder\" } are not used.\n",
      "\n",
      "  bst.update(dtrain, iteration=i, fobj=obj)\n",
      "[I 2025-05-23 11:43:20,256] Trial 22 finished with value: 0.9079961464354528 and parameters: {'n_estimators': 205, 'max_depth': 8, 'learning_rate': 0.21242210417382157, 'subsample': 0.7193364256090491, 'colsample_bytree': 0.6806558445925673, 'gamma': 1.2944037816070222, 'reg_alpha': 0.5745485306501702, 'reg_lambda': 0.23668007806004693}. Best is trial 19 with value: 0.9111271676300579.\n",
      "c:\\Users\\Fernando\\VSC\\python\\dev\\p7-1\\multi-class_prediction_obesity_risk\\.venv\\Lib\\site-packages\\xgboost\\training.py:183: UserWarning: [11:43:20] WARNING: C:\\actions-runner\\_work\\xgboost\\xgboost\\src\\learner.cc:738: \n",
      "Parameters: { \"use_label_encoder\" } are not used.\n",
      "\n",
      "  bst.update(dtrain, iteration=i, fobj=obj)\n",
      "[I 2025-05-23 11:43:28,870] Trial 23 finished with value: 0.9053468208092486 and parameters: {'n_estimators': 248, 'max_depth': 8, 'learning_rate': 0.224648586526785, 'subsample': 0.7330834934696829, 'colsample_bytree': 0.6985339867475844, 'gamma': 1.4858568651649697, 'reg_alpha': 0.4043565845392037, 'reg_lambda': 0.26016447275198107}. Best is trial 19 with value: 0.9111271676300579.\n",
      "c:\\Users\\Fernando\\VSC\\python\\dev\\p7-1\\multi-class_prediction_obesity_risk\\.venv\\Lib\\site-packages\\xgboost\\training.py:183: UserWarning: [11:43:29] WARNING: C:\\actions-runner\\_work\\xgboost\\xgboost\\src\\learner.cc:738: \n",
      "Parameters: { \"use_label_encoder\" } are not used.\n",
      "\n",
      "  bst.update(dtrain, iteration=i, fobj=obj)\n",
      "[I 2025-05-23 11:43:36,618] Trial 24 finished with value: 0.9060693641618497 and parameters: {'n_estimators': 205, 'max_depth': 9, 'learning_rate': 0.16936963671695976, 'subsample': 0.6318246283350746, 'colsample_bytree': 0.6806911577357375, 'gamma': 2.2930944760964636, 'reg_alpha': 0.28275116090211705, 'reg_lambda': 0.10454455332752521}. Best is trial 19 with value: 0.9111271676300579.\n",
      "c:\\Users\\Fernando\\VSC\\python\\dev\\p7-1\\multi-class_prediction_obesity_risk\\.venv\\Lib\\site-packages\\xgboost\\training.py:183: UserWarning: [11:43:36] WARNING: C:\\actions-runner\\_work\\xgboost\\xgboost\\src\\learner.cc:738: \n",
      "Parameters: { \"use_label_encoder\" } are not used.\n",
      "\n",
      "  bst.update(dtrain, iteration=i, fobj=obj)\n",
      "[I 2025-05-23 11:43:43,405] Trial 25 finished with value: 0.9022157996146436 and parameters: {'n_estimators': 210, 'max_depth': 7, 'learning_rate': 0.2648934946417694, 'subsample': 0.5663914190767999, 'colsample_bytree': 0.7512502398211921, 'gamma': 2.922791047556423, 'reg_alpha': 0.5757193691876235, 'reg_lambda': 0.4293311050743249}. Best is trial 19 with value: 0.9111271676300579.\n",
      "c:\\Users\\Fernando\\VSC\\python\\dev\\p7-1\\multi-class_prediction_obesity_risk\\.venv\\Lib\\site-packages\\xgboost\\training.py:183: UserWarning: [11:43:43] WARNING: C:\\actions-runner\\_work\\xgboost\\xgboost\\src\\learner.cc:738: \n",
      "Parameters: { \"use_label_encoder\" } are not used.\n",
      "\n",
      "  bst.update(dtrain, iteration=i, fobj=obj)\n",
      "[I 2025-05-23 11:43:52,712] Trial 26 finished with value: 0.9104046242774566 and parameters: {'n_estimators': 252, 'max_depth': 8, 'learning_rate': 0.21070858069947804, 'subsample': 0.6656107290413855, 'colsample_bytree': 0.5564814965921688, 'gamma': 0.7127014384341083, 'reg_alpha': 0.46864970325759636, 'reg_lambda': 0.31007765353933225}. Best is trial 19 with value: 0.9111271676300579.\n",
      "c:\\Users\\Fernando\\VSC\\python\\dev\\p7-1\\multi-class_prediction_obesity_risk\\.venv\\Lib\\site-packages\\xgboost\\training.py:183: UserWarning: [11:43:52] WARNING: C:\\actions-runner\\_work\\xgboost\\xgboost\\src\\learner.cc:738: \n",
      "Parameters: { \"use_label_encoder\" } are not used.\n",
      "\n",
      "  bst.update(dtrain, iteration=i, fobj=obj)\n",
      "[I 2025-05-23 11:44:03,179] Trial 27 finished with value: 0.9096820809248555 and parameters: {'n_estimators': 255, 'max_depth': 6, 'learning_rate': 0.16352444819498868, 'subsample': 0.670932646990626, 'colsample_bytree': 0.5477548709135125, 'gamma': 0.5856400234422201, 'reg_alpha': 0.4540341660813875, 'reg_lambda': 0.5510252053890179}. Best is trial 19 with value: 0.9111271676300579.\n",
      "c:\\Users\\Fernando\\VSC\\python\\dev\\p7-1\\multi-class_prediction_obesity_risk\\.venv\\Lib\\site-packages\\xgboost\\training.py:183: UserWarning: [11:44:03] WARNING: C:\\actions-runner\\_work\\xgboost\\xgboost\\src\\learner.cc:738: \n",
      "Parameters: { \"use_label_encoder\" } are not used.\n",
      "\n",
      "  bst.update(dtrain, iteration=i, fobj=obj)\n",
      "[I 2025-05-23 11:44:12,747] Trial 28 finished with value: 0.9034200385356455 and parameters: {'n_estimators': 257, 'max_depth': 9, 'learning_rate': 0.25627925736386, 'subsample': 0.5924301992394893, 'colsample_bytree': 0.6243096340045513, 'gamma': 0.7300884923235457, 'reg_alpha': 0.477176322792163, 'reg_lambda': 0.016222641616785882}. Best is trial 19 with value: 0.9111271676300579.\n",
      "c:\\Users\\Fernando\\VSC\\python\\dev\\p7-1\\multi-class_prediction_obesity_risk\\.venv\\Lib\\site-packages\\xgboost\\training.py:183: UserWarning: [11:44:13] WARNING: C:\\actions-runner\\_work\\xgboost\\xgboost\\src\\learner.cc:738: \n",
      "Parameters: { \"use_label_encoder\" } are not used.\n",
      "\n",
      "  bst.update(dtrain, iteration=i, fobj=obj)\n",
      "[I 2025-05-23 11:44:31,742] Trial 29 finished with value: 0.9075144508670521 and parameters: {'n_estimators': 273, 'max_depth': 9, 'learning_rate': 0.13084967362604671, 'subsample': 0.6551758656772066, 'colsample_bytree': 0.569809601257387, 'gamma': 0.008815835849551146, 'reg_alpha': 0.2973844870368456, 'reg_lambda': 0.16333644658647284}. Best is trial 19 with value: 0.9111271676300579.\n",
      "c:\\Users\\Fernando\\VSC\\python\\dev\\p7-1\\multi-class_prediction_obesity_risk\\.venv\\Lib\\site-packages\\xgboost\\training.py:183: UserWarning: [11:44:31] WARNING: C:\\actions-runner\\_work\\xgboost\\xgboost\\src\\learner.cc:738: \n",
      "Parameters: { \"use_label_encoder\" } are not used.\n",
      "\n",
      "  bst.update(dtrain, iteration=i, fobj=obj)\n"
     ]
    }
   ],
   "source": [
    "optuna_pipeline, optuna_study, results, X_train, X_test, y_train, y_test = optimize_xgboost(X, y, n_trials=30)"
   ]
  },
  {
   "cell_type": "markdown",
   "metadata": {},
   "source": [
    "# 7. Final Metrics"
   ]
  },
  {
   "cell_type": "code",
   "execution_count": 9,
   "metadata": {},
   "outputs": [
    {
     "name": "stdout",
     "output_type": "stream",
     "text": [
      "+------------------+--------------------+--------------------+--------------------+--------------------+-------------+\n",
      "|      Model       |      Accuracy      |     Precision      |       Recall       |      F1-Score      | Overfitting |\n",
      "+------------------+--------------------+--------------------+--------------------+--------------------+-------------+\n",
      "| XGBoost (Optuna) | 0.9111271676300579 | 0.9107541918307329 | 0.9111271676300579 | 0.9108084165701217 |    0.044    |\n",
      "+------------------+--------------------+--------------------+--------------------+--------------------+-------------+\n"
     ]
    }
   ],
   "source": [
    "# ==== Final Model Evaluation: Classification Report ====\n",
    "print(tabulate(results, headers='keys', tablefmt='pretty'))\n",
    "# ==== Final Model Evaluation: Visualizations ===="
   ]
  },
  {
   "cell_type": "code",
   "execution_count": 10,
   "metadata": {},
   "outputs": [
    {
     "data": {
      "text/plain": [
       "<Figure size 800x600 with 0 Axes>"
      ]
     },
     "metadata": {},
     "output_type": "display_data"
    },
    {
     "data": {
      "image/png": "[encoded data removed]",
      "text/plain": [
       "<Figure size 640x480 with 2 Axes>"
      ]
     },
     "metadata": {},
     "output_type": "display_data"
    },
    {
     "data": {
      "image/png": "[encoded data removed]",
      "text/plain": [
       "<Figure size 1000x800 with 1 Axes>"
      ]
     },
     "metadata": {},
     "output_type": "display_data"
    },
    {
     "data": {
      "image/png": "[encoded data removed]",
      "text/plain": [
       "<Figure size 1000x600 with 1 Axes>"
      ]
     },
     "metadata": {},
     "output_type": "display_data"
    }
   ],
   "source": [
    "# Confusion Matrix\n",
    "from sklearn.metrics import confusion_matrix, ConfusionMatrixDisplay\n",
    "\n",
    "y_pred = optuna_pipeline.predict(X_test)\n",
    "\n",
    "cm = confusion_matrix(y_test, y_pred)\n",
    "disp = ConfusionMatrixDisplay(confusion_matrix=cm, display_labels=optuna_pipeline.classes_)\n",
    "\n",
    "plt.figure(figsize=(8, 6))\n",
    "disp.plot(cmap=plt.cm.Blues, values_format='d')\n",
    "plt.title(\"Confusion Matrix\")\n",
    "plt.show()\n",
    "\n",
    "# Multiclass ROC Curve\n",
    "from sklearn.preprocessing import label_binarize\n",
    "from sklearn.metrics import roc_curve, auc\n",
    "\n",
    "classes = np.unique(y_test)\n",
    "y_test_bin = label_binarize(y_test, classes=classes)\n",
    "n_classes = y_test_bin.shape[1]\n",
    "y_score = optuna_pipeline.predict_proba(X_test)\n",
    "\n",
    "plt.figure(figsize=(10, 8))\n",
    "for i in range(n_classes):\n",
    "    fpr, tpr, _ = roc_curve(y_test_bin[:, i], y_score[:, i])\n",
    "    roc_auc = auc(fpr, tpr)\n",
    "    plt.plot(fpr, tpr, label=f'{classes[i]} (AUC = {roc_auc:.2f})')\n",
    "\n",
    "plt.plot([0, 1], [0, 1], 'k--')\n",
    "plt.xlabel('False Positive Rate')\n",
    "plt.ylabel('True Positive Rate')\n",
    "plt.title('Multiclass ROC Curve')\n",
    "plt.legend(loc='lower right')\n",
    "plt.grid(True)\n",
    "plt.show()\n",
    "\n",
    "# Feature Importance for XGBoost\n",
    "feature_names = X_train.columns\n",
    "xgb_model = optuna_pipeline.named_steps['classifier']\n",
    "importances = xgb_model.feature_importances_\n",
    "\n",
    "feat_imp = pd.DataFrame({'Feature': feature_names, 'Importance': importances})\n",
    "feat_imp = feat_imp.sort_values(by='Importance', ascending=False)\n",
    "\n",
    "plt.figure(figsize=(10, 6))\n",
    "plt.barh(feat_imp['Feature'], feat_imp['Importance'], color='lightcoral')\n",
    "plt.gca().invert_yaxis()\n",
    "plt.xlabel('Importance')\n",
    "plt.title('XGBoost Feature Importance')\n",
    "plt.tight_layout()\n",
    "plt.show()\n"
   ]
  },
  {
   "cell_type": "markdown",
   "metadata": {},
   "source": [
    "# 8. Train Model"
   ]
  },
  {
   "cell_type": "code",
   "execution_count": 11,
   "metadata": {},
   "outputs": [],
   "source": [
    "y_pred = optuna_pipeline.predict(X)\n",
    "y_proba = optuna_pipeline.predict_proba(X)\n"
   ]
  },
  {
   "cell_type": "markdown",
   "metadata": {},
   "source": [
    "# 9. Export Model"
   ]
  },
  {
   "cell_type": "code",
   "execution_count": 12,
   "metadata": {},
   "outputs": [
    {
     "name": "stdout",
     "output_type": "stream",
     "text": [
      "✔️ Modelo guardado en: c:\\Users\\Fernando\\VSC\\python\\dev\\p7-1\\multi-class_prediction_obesity_risk\\data\\modeling\\pkl\\xgboost_optuna_pipeline.pkl\n"
     ]
    }
   ],
   "source": [
    "\n",
    "current_dir = os.getcwd()\n",
    "model_pkl_filename = \"xgboost_optuna_pipeline.pkl\"\n",
    "model_pkl_path = os.path.join(current_dir, \"pkl\",model_pkl_filename)\n",
    "\n",
    "joblib.dump(optuna_pipeline, model_pkl_path)\n",
    "\n",
    "print(f\"✔️ Modelo guardado en: {model_pkl_path}\")"
   ]
  }
 ],
 "metadata": {
  "kernelspec": {
   "display_name": ".venv",
   "language": "python",
   "name": "python3"
  },
  "language_info": {
   "codemirror_mode": {
    "name": "ipython",
    "version": 3
   },
   "file_extension": ".py",
   "mimetype": "text/x-python",
   "name": "python",
   "nbconvert_exporter": "python",
   "pygments_lexer": "ipython3",
   "version": "3.13.1"
  }
 },
 "nbformat": 4,
 "nbformat_minor": 2
}
