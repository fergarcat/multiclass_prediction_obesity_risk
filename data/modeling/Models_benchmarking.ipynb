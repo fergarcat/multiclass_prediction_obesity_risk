{
 "cells": [
  {
   "cell_type": "markdown",
   "metadata": {},
   "source": [
    "# 1. Importaciones iniciales"
   ]
  },
  {
   "cell_type": "code",
   "execution_count": 1,
   "metadata": {},
   "outputs": [
    {
     "name": "stdout",
     "output_type": "stream",
     "text": [
      "✅ Preprocessing pipeline saved to: c:\\Users\\Fernando\\VSC\\python\\dev\\p7-1\\multi-class_prediction_obesity_risk\\data\\modeling\\pkl\\preprocessing_pipeline.pkl\n"
     ]
    }
   ],
   "source": [
    "import os\n",
    "import pandas as pd\n",
    "import joblib\n",
    "from sklearn.model_selection import train_test_split\n",
    "from sklearn.ensemble import RandomForestClassifier\n",
    "from sklearn.pipeline import Pipeline\n",
    "from sklearn.metrics import classification_report, confusion_matrix\n",
    "from pipeline_utils import CustomRowTransformer\n",
    "from dotenv import load_dotenv\n",
    "from benchmarks import ml_benchmarks\n",
    "\n",
    "import os\n",
    "load_dotenv()\n",
    "ML_PREPROC_FILENAME = os.getenv(\"ML_PREPROC_FILENAME\")\n",
    "CSV_FOLDER = os.getenv(\"CSV_FOLDER\")\n",
    "CSV_TRAIN_FILENAME = os.getenv(\"CSV_TRAIN_FILENAME\")"
   ]
  },
  {
   "cell_type": "markdown",
   "metadata": {},
   "source": [
    "# 2. Cargar datos y pipeline"
   ]
  },
  {
   "cell_type": "code",
   "execution_count": 2,
   "metadata": {},
   "outputs": [
    {
     "name": "stdout",
     "output_type": "stream",
     "text": [
      "CSV path: c:\\Users\\Fernando\\VSC\\python\\dev\\p7-1\\multi-class_prediction_obesity_risk\\data\\.kaggle\\train.csv\n",
      "Preprocessing pipeline path: c:\\Users\\Fernando\\VSC\\python\\dev\\p7-1\\multi-class_prediction_obesity_risk\\data\\modeling\\pkl\\preprocessing_pipeline.pkl\n"
     ]
    }
   ],
   "source": [
    "# Paths\n",
    "current_dir = os.getcwd()\n",
    "parent_dir = os.path.dirname(current_dir)\n",
    "csv_path = os.path.join(parent_dir, \".kaggle\", \"train.csv\")\n",
    "print(f'CSV path: {csv_path}')\n",
    "pre_pkl_path = os.path.join(parent_dir, \"modeling\", \"pkl\", ML_PREPROC_FILENAME)\n",
    "print(f'Preprocessing pipeline path: {pre_pkl_path}')\n",
    "\n",
    "# Load raw data and preprocessing pipeline\n",
    "df = pd.read_csv(csv_path)\n",
    "preprocessing_pipeline = joblib.load(pre_pkl_path)\n"
   ]
  },
  {
   "cell_type": "markdown",
   "metadata": {},
   "source": [
    "# 3. Aplicar el pipeline y separar variables"
   ]
  },
  {
   "cell_type": "code",
   "execution_count": 3,
   "metadata": {},
   "outputs": [
    {
     "name": "stderr",
     "output_type": "stream",
     "text": [
      "c:\\Users\\Fernando\\VSC\\python\\dev\\p7-1\\multi-class_prediction_obesity_risk\\.venv\\Lib\\site-packages\\xgboost\\training.py:183: UserWarning: [11:57:28] WARNING: C:\\actions-runner\\_work\\xgboost\\xgboost\\src\\learner.cc:738: \n",
      "Parameters: { \"use_label_encoder\" } are not used.\n",
      "\n",
      "  bst.update(dtrain, iteration=i, fobj=obj)\n"
     ]
    },
    {
     "name": "stdout",
     "output_type": "stream",
     "text": [
      "[LightGBM] [Info] Auto-choosing row-wise multi-threading, the overhead of testing was 0.001999 seconds.\n",
      "You can set `force_row_wise=true` to remove the overhead.\n",
      "And if memory is not enough, you can set `force_col_wise=true`.\n",
      "[LightGBM] [Info] Total Bins 1120\n",
      "[LightGBM] [Info] Number of data points in the train set: 16606, number of used features: 15\n",
      "[LightGBM] [Info] Start training from score -2.107657\n",
      "[LightGBM] [Info] Start training from score -1.907572\n",
      "[LightGBM] [Info] Start training from score -1.964755\n",
      "[LightGBM] [Info] Start training from score -1.855022\n",
      "[LightGBM] [Info] Start training from score -1.635117\n",
      "[LightGBM] [Info] Start training from score -2.146046\n",
      "[LightGBM] [Info] Start training from score -2.107657\n"
     ]
    },
    {
     "name": "stderr",
     "output_type": "stream",
     "text": [
      "c:\\Users\\Fernando\\VSC\\python\\dev\\p7-1\\multi-class_prediction_obesity_risk\\.venv\\Lib\\site-packages\\sklearn\\utils\\validation.py:2739: UserWarning: X does not have valid feature names, but LGBMClassifier was fitted with feature names\n",
      "  warnings.warn(\n",
      "c:\\Users\\Fernando\\VSC\\python\\dev\\p7-1\\multi-class_prediction_obesity_risk\\.venv\\Lib\\site-packages\\sklearn\\utils\\validation.py:2739: UserWarning: X does not have valid feature names, but LGBMClassifier was fitted with feature names\n",
      "  warnings.warn(\n"
     ]
    },
    {
     "name": "stdout",
     "output_type": "stream",
     "text": [
      "+---------------------+--------------------+--------------------+--------------------+--------------------+----------------+-------------+\n",
      "|        Model        |      Accuracy      |     Precision      |       Recall       |      F1-Score      | Train Time (s) | Overfitting |\n",
      "+---------------------+--------------------+--------------------+--------------------+--------------------+----------------+-------------+\n",
      "|       XGBoost       | 0.9072736030828517 | 0.9070431550288031 | 0.9072736030828517 | 0.9070520800655331 |     2.8927     |   0.0769    |\n",
      "|      CatBoost       | 0.9060693641618497 | 0.9055571752237769 | 0.9060693641618497 | 0.9057671655185464 |     46.65      |   0.0483    |\n",
      "|      LightGBM       | 0.9051059730250481 | 0.904767060264294  | 0.9051059730250481 | 0.904858615859683  |     7.4812     |   0.0711    |\n",
      "|    Random Forest    | 0.9034200385356455 | 0.9027256941629342 | 0.9034200385356455 | 0.9028778844140601 |     4.7996     |   0.0965    |\n",
      "|      SVM (RBF)      | 0.8831888246628131 | 0.8822304830819414 | 0.8831888246628131 | 0.8826031033709307 |    14.7101     |   0.0137    |\n",
      "|    SVM (Linear)     | 0.8697013487475915 | 0.8684212142624876 | 0.8697013487475915 | 0.8687769244560287 |     9.1787     |   -0.0029   |\n",
      "| Logistic Regression | 0.8639210019267822 | 0.8623670260449364 | 0.8639210019267822 | 0.8628638587796892 |     0.5756     |   -0.0013   |\n",
      "|    Decision Tree    | 0.8403179190751445 | 0.840521767468139  | 0.8403179190751445 | 0.8402705946281905 |     0.212      |   0.1596    |\n",
      "|         KNN         | 0.7935934489402697 | 0.790630977001732  | 0.7935934489402697 | 0.7907663600653316 |     0.2354     |   0.0574    |\n",
      "|     Naive Bayes     | 0.7755298651252408 | 0.7709755178352045 | 0.7755298651252408 | 0.7691401708487299 |     0.0309     |   -0.0024   |\n",
      "+---------------------+--------------------+--------------------+--------------------+--------------------+----------------+-------------+\n"
     ]
    },
    {
     "data": {
      "application/vnd.microsoft.datawrangler.viewer.v0+json": {
       "columns": [
        {
         "name": "index",
         "rawType": "int64",
         "type": "integer"
        },
        {
         "name": "Model",
         "rawType": "object",
         "type": "string"
        },
        {
         "name": "Accuracy",
         "rawType": "float64",
         "type": "float"
        },
        {
         "name": "Precision",
         "rawType": "float64",
         "type": "float"
        },
        {
         "name": "Recall",
         "rawType": "float64",
         "type": "float"
        },
        {
         "name": "F1-Score",
         "rawType": "float64",
         "type": "float"
        },
        {
         "name": "Train Time (s)",
         "rawType": "float64",
         "type": "float"
        },
        {
         "name": "Overfitting",
         "rawType": "float64",
         "type": "float"
        }
       ],
       "conversionMethod": "pd.DataFrame",
       "ref": "e9abca89-c0da-4366-9f4c-fd17228987fa",
       "rows": [
        [
         "7",
         "XGBoost",
         "0.9072736030828517",
         "0.9070431550288031",
         "0.9072736030828517",
         "0.9070520800655331",
         "2.8927",
         "0.0769"
        ],
        [
         "9",
         "CatBoost",
         "0.9060693641618497",
         "0.9055571752237769",
         "0.9060693641618497",
         "0.9057671655185464",
         "46.65",
         "0.0483"
        ],
        [
         "8",
         "LightGBM",
         "0.9051059730250481",
         "0.904767060264294",
         "0.9051059730250481",
         "0.904858615859683",
         "7.4812",
         "0.0711"
        ],
        [
         "2",
         "Random Forest",
         "0.9034200385356455",
         "0.9027256941629342",
         "0.9034200385356455",
         "0.9028778844140601",
         "4.7996",
         "0.0965"
        ],
        [
         "4",
         "SVM (RBF)",
         "0.8831888246628131",
         "0.8822304830819414",
         "0.8831888246628131",
         "0.8826031033709307",
         "14.7101",
         "0.0137"
        ],
        [
         "3",
         "SVM (Linear)",
         "0.8697013487475915",
         "0.8684212142624876",
         "0.8697013487475915",
         "0.8687769244560287",
         "9.1787",
         "-0.0029"
        ],
        [
         "0",
         "Logistic Regression",
         "0.8639210019267822",
         "0.8623670260449364",
         "0.8639210019267822",
         "0.8628638587796892",
         "0.5756",
         "-0.0013"
        ],
        [
         "1",
         "Decision Tree",
         "0.8403179190751445",
         "0.840521767468139",
         "0.8403179190751445",
         "0.8402705946281905",
         "0.212",
         "0.1596"
        ],
        [
         "6",
         "KNN",
         "0.7935934489402697",
         "0.790630977001732",
         "0.7935934489402697",
         "0.7907663600653316",
         "0.2354",
         "0.0574"
        ],
        [
         "5",
         "Naive Bayes",
         "0.7755298651252408",
         "0.7709755178352045",
         "0.7755298651252408",
         "0.7691401708487299",
         "0.0309",
         "-0.0024"
        ]
       ],
       "shape": {
        "columns": 7,
        "rows": 10
       }
      },
      "text/html": [
       "<div>\n",
       "<style scoped>\n",
       "    .dataframe tbody tr th:only-of-type {\n",
       "        vertical-align: middle;\n",
       "    }\n",
       "\n",
       "    .dataframe tbody tr th {\n",
       "        vertical-align: top;\n",
       "    }\n",
       "\n",
       "    .dataframe thead th {\n",
       "        text-align: right;\n",
       "    }\n",
       "</style>\n",
       "<table border=\"1\" class=\"dataframe\">\n",
       "  <thead>\n",
       "    <tr style=\"text-align: right;\">\n",
       "      <th></th>\n",
       "      <th>Model</th>\n",
       "      <th>Accuracy</th>\n",
       "      <th>Precision</th>\n",
       "      <th>Recall</th>\n",
       "      <th>F1-Score</th>\n",
       "      <th>Train Time (s)</th>\n",
       "      <th>Overfitting</th>\n",
       "    </tr>\n",
       "  </thead>\n",
       "  <tbody>\n",
       "    <tr>\n",
       "      <th>7</th>\n",
       "      <td>XGBoost</td>\n",
       "      <td>0.907274</td>\n",
       "      <td>0.907043</td>\n",
       "      <td>0.907274</td>\n",
       "      <td>0.907052</td>\n",
       "      <td>2.8927</td>\n",
       "      <td>0.0769</td>\n",
       "    </tr>\n",
       "    <tr>\n",
       "      <th>9</th>\n",
       "      <td>CatBoost</td>\n",
       "      <td>0.906069</td>\n",
       "      <td>0.905557</td>\n",
       "      <td>0.906069</td>\n",
       "      <td>0.905767</td>\n",
       "      <td>46.6500</td>\n",
       "      <td>0.0483</td>\n",
       "    </tr>\n",
       "    <tr>\n",
       "      <th>8</th>\n",
       "      <td>LightGBM</td>\n",
       "      <td>0.905106</td>\n",
       "      <td>0.904767</td>\n",
       "      <td>0.905106</td>\n",
       "      <td>0.904859</td>\n",
       "      <td>7.4812</td>\n",
       "      <td>0.0711</td>\n",
       "    </tr>\n",
       "    <tr>\n",
       "      <th>2</th>\n",
       "      <td>Random Forest</td>\n",
       "      <td>0.903420</td>\n",
       "      <td>0.902726</td>\n",
       "      <td>0.903420</td>\n",
       "      <td>0.902878</td>\n",
       "      <td>4.7996</td>\n",
       "      <td>0.0965</td>\n",
       "    </tr>\n",
       "    <tr>\n",
       "      <th>4</th>\n",
       "      <td>SVM (RBF)</td>\n",
       "      <td>0.883189</td>\n",
       "      <td>0.882230</td>\n",
       "      <td>0.883189</td>\n",
       "      <td>0.882603</td>\n",
       "      <td>14.7101</td>\n",
       "      <td>0.0137</td>\n",
       "    </tr>\n",
       "    <tr>\n",
       "      <th>3</th>\n",
       "      <td>SVM (Linear)</td>\n",
       "      <td>0.869701</td>\n",
       "      <td>0.868421</td>\n",
       "      <td>0.869701</td>\n",
       "      <td>0.868777</td>\n",
       "      <td>9.1787</td>\n",
       "      <td>-0.0029</td>\n",
       "    </tr>\n",
       "    <tr>\n",
       "      <th>0</th>\n",
       "      <td>Logistic Regression</td>\n",
       "      <td>0.863921</td>\n",
       "      <td>0.862367</td>\n",
       "      <td>0.863921</td>\n",
       "      <td>0.862864</td>\n",
       "      <td>0.5756</td>\n",
       "      <td>-0.0013</td>\n",
       "    </tr>\n",
       "    <tr>\n",
       "      <th>1</th>\n",
       "      <td>Decision Tree</td>\n",
       "      <td>0.840318</td>\n",
       "      <td>0.840522</td>\n",
       "      <td>0.840318</td>\n",
       "      <td>0.840271</td>\n",
       "      <td>0.2120</td>\n",
       "      <td>0.1596</td>\n",
       "    </tr>\n",
       "    <tr>\n",
       "      <th>6</th>\n",
       "      <td>KNN</td>\n",
       "      <td>0.793593</td>\n",
       "      <td>0.790631</td>\n",
       "      <td>0.793593</td>\n",
       "      <td>0.790766</td>\n",
       "      <td>0.2354</td>\n",
       "      <td>0.0574</td>\n",
       "    </tr>\n",
       "    <tr>\n",
       "      <th>5</th>\n",
       "      <td>Naive Bayes</td>\n",
       "      <td>0.775530</td>\n",
       "      <td>0.770976</td>\n",
       "      <td>0.775530</td>\n",
       "      <td>0.769140</td>\n",
       "      <td>0.0309</td>\n",
       "      <td>-0.0024</td>\n",
       "    </tr>\n",
       "  </tbody>\n",
       "</table>\n",
       "</div>"
      ],
      "text/plain": [
       "                 Model  Accuracy  Precision    Recall  F1-Score  \\\n",
       "7              XGBoost  0.907274   0.907043  0.907274  0.907052   \n",
       "9             CatBoost  0.906069   0.905557  0.906069  0.905767   \n",
       "8             LightGBM  0.905106   0.904767  0.905106  0.904859   \n",
       "2        Random Forest  0.903420   0.902726  0.903420  0.902878   \n",
       "4            SVM (RBF)  0.883189   0.882230  0.883189  0.882603   \n",
       "3         SVM (Linear)  0.869701   0.868421  0.869701  0.868777   \n",
       "0  Logistic Regression  0.863921   0.862367  0.863921  0.862864   \n",
       "1        Decision Tree  0.840318   0.840522  0.840318  0.840271   \n",
       "6                  KNN  0.793593   0.790631  0.793593  0.790766   \n",
       "5          Naive Bayes  0.775530   0.770976  0.775530  0.769140   \n",
       "\n",
       "   Train Time (s)  Overfitting  \n",
       "7          2.8927       0.0769  \n",
       "9         46.6500       0.0483  \n",
       "8          7.4812       0.0711  \n",
       "2          4.7996       0.0965  \n",
       "4         14.7101       0.0137  \n",
       "3          9.1787      -0.0029  \n",
       "0          0.5756      -0.0013  \n",
       "1          0.2120       0.1596  \n",
       "6          0.2354       0.0574  \n",
       "5          0.0309      -0.0024  "
      ]
     },
     "execution_count": 3,
     "metadata": {},
     "output_type": "execute_result"
    }
   ],
   "source": [
    "# Apply preprocessing\n",
    "df_prepared = preprocessing_pipeline.transform(df)   \n",
    "\n",
    "# Separate features and target\n",
    "X = df_prepared.drop(columns=[\"NObeyesdad\", \"SMOKE\",\"MTRANS\",\"id\"])\n",
    "y = df_prepared[\"NObeyesdad\"]\n",
    "\n",
    "ml_benchmarks(X, y)\n",
    "\n"
   ]
  },
  {
   "cell_type": "code",
   "execution_count": null,
   "metadata": {},
   "outputs": [],
   "source": []
  },
  {
   "cell_type": "markdown",
   "metadata": {},
   "source": [
    "# 6. Evaluar el modelo"
   ]
  },
  {
   "cell_type": "code",
   "execution_count": null,
   "metadata": {},
   "outputs": [],
   "source": [
    "y_pred = model.predict(X_test)\n",
    "\n",
    "print(\"🔍 Classification Report:\")\n",
    "print(classification_report(y_test, y_pred))\n",
    "\n",
    "print(\"📊 Confusion Matrix:\")\n",
    "print(confusion_matrix(y_test, y_pred))\n"
   ]
  },
  {
   "cell_type": "markdown",
   "metadata": {},
   "source": [
    "# 7. Guardar el modelo"
   ]
  },
  {
   "cell_type": "code",
   "execution_count": null,
   "metadata": {},
   "outputs": [],
   "source": [
    "model_path = os.path.join(parent_dir, \"modeling\", \"pkl\", \"trained_model.pkl\")\n",
    "joblib.dump(model, model_path)\n",
    "print(f\"✅ Model saved to: {model_path}\")\n"
   ]
  },
  {
   "cell_type": "markdown",
   "metadata": {},
   "source": [
    "# PREPROCESAMIENTO MÁS MODELO"
   ]
  },
  {
   "cell_type": "code",
   "execution_count": null,
   "metadata": {},
   "outputs": [],
   "source": [
    "full_pipeline = Pipeline(steps=[\n",
    "    (\"preprocessing\", preprocessing_pipeline),\n",
    "    (\"classifier\", RandomForestClassifier(n_estimators=100, random_state=42))\n",
    "])\n",
    "\n",
    "# Entrenar directamente\n",
    "full_pipeline.fit(df, df[\"NObeyesdad\"])\n",
    "\n",
    "# Guardar todo el pipeline (ideal para producción)\n",
    "joblib.dump(full_pipeline, \"full_pipeline_model.pkl\")\n"
   ]
  }
 ],
 "metadata": {
  "kernelspec": {
   "display_name": ".venv",
   "language": "python",
   "name": "python3"
  },
  "language_info": {
   "codemirror_mode": {
    "name": "ipython",
    "version": 3
   },
   "file_extension": ".py",
   "mimetype": "text/x-python",
   "name": "python",
   "nbconvert_exporter": "python",
   "pygments_lexer": "ipython3",
   "version": "3.13.1"
  }
 },
 "nbformat": 4,
 "nbformat_minor": 2
}
