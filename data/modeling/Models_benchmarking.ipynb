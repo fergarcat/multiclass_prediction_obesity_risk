{
 "cells": [
  {
   "cell_type": "markdown",
   "metadata": {},
   "source": [
    "# 1. Import Libraries and Load Environment"
   ]
  },
  {
   "cell_type": "code",
   "execution_count": 1,
   "metadata": {},
   "outputs": [
    {
     "name": "stdout",
     "output_type": "stream",
     "text": [
      "Preprocessing pipeline will be saved to: c:\\Users\\Fernando\\VSC\\python\\dev\\p7-1\\multi-class_prediction_obesity_risk\\data\\modeling\\pkl\\preprocessing_pipeline.pkl\n",
      "✅ Preprocessing pipeline saved to: c:\\Users\\Fernando\\VSC\\python\\dev\\p7-1\\multi-class_prediction_obesity_risk\\data\\modeling\\pkl\\preprocessing_pipeline.pkl\n"
     ]
    },
    {
     "name": "stderr",
     "output_type": "stream",
     "text": [
      "c:\\Users\\Fernando\\VSC\\python\\dev\\p7-1\\multi-class_prediction_obesity_risk\\.venv\\Lib\\site-packages\\tqdm\\auto.py:21: TqdmWarning: IProgress not found. Please update jupyter and ipywidgets. See https://ipywidgets.readthedocs.io/en/stable/user_install.html\n",
      "  from .autonotebook import tqdm as notebook_tqdm\n"
     ]
    }
   ],
   "source": [
    "import os\n",
    "import pandas as pd\n",
    "import joblib\n",
    "from sklearn.model_selection import train_test_split\n",
    "from sklearn.ensemble import RandomForestClassifier\n",
    "from sklearn.pipeline import Pipeline\n",
    "from sklearn.metrics import classification_report, confusion_matrix\n",
    "from pipeline_utils import CustomRowTransformer\n",
    "from dotenv import load_dotenv\n",
    "from benchmarks import ml_benchmarks, custom_ml_benchmarks, optimize_xgboost\n",
    "from sklearn.pipeline import Pipeline\n",
    "from sklearn.preprocessing import StandardScaler\n",
    "from sklearn.linear_model import LogisticRegression\n",
    "from xgboost import XGBClassifier\n",
    "import matplotlib.pyplot as plt\n",
    "import numpy as np\n",
    "import os\n",
    "from tabulate import tabulate  \n",
    "load_dotenv()\n",
    "ML_PREPROC_FILENAME = os.getenv(\"ML_PREPROC_FILENAME\")\n",
    "CSV_FOLDER = os.getenv(\"CSV_FOLDER\")\n",
    "CSV_TRAIN_FILENAME = os.getenv(\"CSV_TRAIN_FILENAME\")"
   ]
  },
  {
   "cell_type": "markdown",
   "metadata": {},
   "source": [
    "# 2. Load Data and Preprocess PKL"
   ]
  },
  {
   "cell_type": "code",
   "execution_count": 2,
   "metadata": {},
   "outputs": [
    {
     "name": "stdout",
     "output_type": "stream",
     "text": [
      "CSV path: c:\\Users\\Fernando\\VSC\\python\\dev\\p7-1\\multi-class_prediction_obesity_risk\\data\\.kaggle\\train.csv\n",
      "Preprocessing pipeline path: c:\\Users\\Fernando\\VSC\\python\\dev\\p7-1\\multi-class_prediction_obesity_risk\\data\\modeling\\pkl\\preprocessing_pipeline.pkl\n"
     ]
    }
   ],
   "source": [
    "# Paths\n",
    "current_dir = os.getcwd()\n",
    "parent_dir = os.path.dirname(current_dir)\n",
    "csv_path = os.path.join(parent_dir, \".kaggle\", \"train.csv\")\n",
    "print(f'CSV path: {csv_path}')\n",
    "pre_pkl_path = os.path.join(parent_dir, \"modeling\", \"pkl\", ML_PREPROC_FILENAME)\n",
    "print(f'Preprocessing pipeline path: {pre_pkl_path}')\n",
    "\n",
    "# Load raw data and preprocessing pipeline\n",
    "df = pd.read_csv(csv_path)\n",
    "preprocessing_pipeline = joblib.load(pre_pkl_path)\n"
   ]
  },
  {
   "cell_type": "markdown",
   "metadata": {},
   "source": [
    "# 3. APPLY PIPELINE AND SPLIT FEATURES AND TARGET"
   ]
  },
  {
   "cell_type": "code",
   "execution_count": 3,
   "metadata": {},
   "outputs": [],
   "source": [
    "# Apply preprocessing\n",
    "df_prepared = preprocessing_pipeline.transform(df)   \n",
    "\n",
    "# Separate features and target\n",
    "X = df_prepared.drop(columns=[\"NObeyesdad\", \"SMOKE\",\"MTRANS\",\"id\"])\n",
    "y = df_prepared[\"NObeyesdad\"]\n",
    "\n"
   ]
  },
  {
   "cell_type": "markdown",
   "metadata": {},
   "source": [
    "# 4. OBTAIN MODELS BENCHMARK"
   ]
  },
  {
   "cell_type": "code",
   "execution_count": 4,
   "metadata": {},
   "outputs": [
    {
     "name": "stderr",
     "output_type": "stream",
     "text": [
      "c:\\Users\\Fernando\\VSC\\python\\dev\\p7-1\\multi-class_prediction_obesity_risk\\.venv\\Lib\\site-packages\\xgboost\\training.py:183: UserWarning: [11:13:16] WARNING: C:\\actions-runner\\_work\\xgboost\\xgboost\\src\\learner.cc:738: \n",
      "Parameters: { \"use_label_encoder\" } are not used.\n",
      "\n",
      "  bst.update(dtrain, iteration=i, fobj=obj)\n"
     ]
    },
    {
     "name": "stdout",
     "output_type": "stream",
     "text": [
      "[LightGBM] [Info] Auto-choosing col-wise multi-threading, the overhead of testing was 0.006222 seconds.\n",
      "You can set `force_col_wise=true` to remove the overhead.\n",
      "[LightGBM] [Info] Total Bins 1120\n",
      "[LightGBM] [Info] Number of data points in the train set: 16606, number of used features: 15\n",
      "[LightGBM] [Info] Start training from score -2.107657\n",
      "[LightGBM] [Info] Start training from score -1.907572\n",
      "[LightGBM] [Info] Start training from score -1.964755\n",
      "[LightGBM] [Info] Start training from score -1.855022\n",
      "[LightGBM] [Info] Start training from score -1.635117\n",
      "[LightGBM] [Info] Start training from score -2.146046\n",
      "[LightGBM] [Info] Start training from score -2.107657\n"
     ]
    },
    {
     "name": "stderr",
     "output_type": "stream",
     "text": [
      "c:\\Users\\Fernando\\VSC\\python\\dev\\p7-1\\multi-class_prediction_obesity_risk\\.venv\\Lib\\site-packages\\sklearn\\utils\\validation.py:2739: UserWarning: X does not have valid feature names, but LGBMClassifier was fitted with feature names\n",
      "  warnings.warn(\n",
      "c:\\Users\\Fernando\\VSC\\python\\dev\\p7-1\\multi-class_prediction_obesity_risk\\.venv\\Lib\\site-packages\\sklearn\\utils\\validation.py:2739: UserWarning: X does not have valid feature names, but LGBMClassifier was fitted with feature names\n",
      "  warnings.warn(\n"
     ]
    },
    {
     "name": "stdout",
     "output_type": "stream",
     "text": [
      "+---------------------+--------------------+--------------------+--------------------+--------------------+----------------+-------------+\n",
      "|        Model        |      Accuracy      |     Precision      |       Recall       |      F1-Score      | Train Time (s) | Overfitting |\n",
      "+---------------------+--------------------+--------------------+--------------------+--------------------+----------------+-------------+\n",
      "|       XGBoost       | 0.9072736030828517 | 0.9070431550288031 | 0.9072736030828517 | 0.9070520800655331 |     5.6426     |   0.0769    |\n",
      "|      CatBoost       | 0.9060693641618497 | 0.9055571752237769 | 0.9060693641618497 | 0.9057671655185464 |    68.0279     |   0.0483    |\n",
      "|      LightGBM       | 0.9051059730250481 | 0.904767060264294  | 0.9051059730250481 | 0.904858615859683  |     8.7731     |   0.0711    |\n",
      "|    Random Forest    | 0.898121387283237  | 0.8973051070129009 | 0.898121387283237  | 0.8975369106223903 |     5.221      |   0.1018    |\n",
      "|      SVM (RBF)      | 0.8831888246628131 | 0.8822304830819414 | 0.8831888246628131 | 0.8826031033709307 |    15.5694     |   0.0137    |\n",
      "|    SVM (Linear)     | 0.8697013487475915 | 0.8684212142624876 | 0.8697013487475915 | 0.8687769244560287 |    10.8462     |   -0.0029   |\n",
      "| Logistic Regression | 0.8639210019267822 | 0.8623670260449364 | 0.8639210019267822 | 0.8628638587796892 |     1.0173     |   -0.0013   |\n",
      "|    Decision Tree    | 0.8395953757225434 | 0.8399465190439579 | 0.8395953757225434 | 0.839533825546914  |     0.3115     |   0.1603    |\n",
      "|         KNN         | 0.7935934489402697 | 0.790630977001732  | 0.7935934489402697 | 0.7907663600653316 |     0.3082     |   0.0574    |\n",
      "|     Naive Bayes     | 0.7755298651252408 | 0.7709755178352045 | 0.7755298651252408 | 0.7691401708487299 |     0.0555     |   -0.0024   |\n",
      "+---------------------+--------------------+--------------------+--------------------+--------------------+----------------+-------------+\n"
     ]
    },
    {
     "data": {
      "application/vnd.microsoft.datawrangler.viewer.v0+json": {
       "columns": [
        {
         "name": "index",
         "rawType": "int64",
         "type": "integer"
        },
        {
         "name": "Model",
         "rawType": "object",
         "type": "string"
        },
        {
         "name": "Accuracy",
         "rawType": "float64",
         "type": "float"
        },
        {
         "name": "Precision",
         "rawType": "float64",
         "type": "float"
        },
        {
         "name": "Recall",
         "rawType": "float64",
         "type": "float"
        },
        {
         "name": "F1-Score",
         "rawType": "float64",
         "type": "float"
        },
        {
         "name": "Train Time (s)",
         "rawType": "float64",
         "type": "float"
        },
        {
         "name": "Overfitting",
         "rawType": "float64",
         "type": "float"
        }
       ],
       "ref": "8c28a34a-b844-4893-9959-a322482f1e92",
       "rows": [
        [
         "7",
         "XGBoost",
         "0.9072736030828517",
         "0.9070431550288031",
         "0.9072736030828517",
         "0.9070520800655331",
         "5.6426",
         "0.0769"
        ],
        [
         "9",
         "CatBoost",
         "0.9060693641618497",
         "0.9055571752237769",
         "0.9060693641618497",
         "0.9057671655185464",
         "68.0279",
         "0.0483"
        ],
        [
         "8",
         "LightGBM",
         "0.9051059730250481",
         "0.904767060264294",
         "0.9051059730250481",
         "0.904858615859683",
         "8.7731",
         "0.0711"
        ],
        [
         "2",
         "Random Forest",
         "0.898121387283237",
         "0.8973051070129009",
         "0.898121387283237",
         "0.8975369106223903",
         "5.221",
         "0.1018"
        ],
        [
         "4",
         "SVM (RBF)",
         "0.8831888246628131",
         "0.8822304830819414",
         "0.8831888246628131",
         "0.8826031033709307",
         "15.5694",
         "0.0137"
        ],
        [
         "3",
         "SVM (Linear)",
         "0.8697013487475915",
         "0.8684212142624876",
         "0.8697013487475915",
         "0.8687769244560287",
         "10.8462",
         "-0.0029"
        ],
        [
         "0",
         "Logistic Regression",
         "0.8639210019267822",
         "0.8623670260449364",
         "0.8639210019267822",
         "0.8628638587796892",
         "1.0173",
         "-0.0013"
        ],
        [
         "1",
         "Decision Tree",
         "0.8395953757225434",
         "0.8399465190439579",
         "0.8395953757225434",
         "0.839533825546914",
         "0.3115",
         "0.1603"
        ],
        [
         "6",
         "KNN",
         "0.7935934489402697",
         "0.790630977001732",
         "0.7935934489402697",
         "0.7907663600653316",
         "0.3082",
         "0.0574"
        ],
        [
         "5",
         "Naive Bayes",
         "0.7755298651252408",
         "0.7709755178352045",
         "0.7755298651252408",
         "0.7691401708487299",
         "0.0555",
         "-0.0024"
        ]
       ],
       "shape": {
        "columns": 7,
        "rows": 10
       }
      },
      "text/html": [
       "<div>\n",
       "<style scoped>\n",
       "    .dataframe tbody tr th:only-of-type {\n",
       "        vertical-align: middle;\n",
       "    }\n",
       "\n",
       "    .dataframe tbody tr th {\n",
       "        vertical-align: top;\n",
       "    }\n",
       "\n",
       "    .dataframe thead th {\n",
       "        text-align: right;\n",
       "    }\n",
       "</style>\n",
       "<table border=\"1\" class=\"dataframe\">\n",
       "  <thead>\n",
       "    <tr style=\"text-align: right;\">\n",
       "      <th></th>\n",
       "      <th>Model</th>\n",
       "      <th>Accuracy</th>\n",
       "      <th>Precision</th>\n",
       "      <th>Recall</th>\n",
       "      <th>F1-Score</th>\n",
       "      <th>Train Time (s)</th>\n",
       "      <th>Overfitting</th>\n",
       "    </tr>\n",
       "  </thead>\n",
       "  <tbody>\n",
       "    <tr>\n",
       "      <th>7</th>\n",
       "      <td>XGBoost</td>\n",
       "      <td>0.907274</td>\n",
       "      <td>0.907043</td>\n",
       "      <td>0.907274</td>\n",
       "      <td>0.907052</td>\n",
       "      <td>5.6426</td>\n",
       "      <td>0.0769</td>\n",
       "    </tr>\n",
       "    <tr>\n",
       "      <th>9</th>\n",
       "      <td>CatBoost</td>\n",
       "      <td>0.906069</td>\n",
       "      <td>0.905557</td>\n",
       "      <td>0.906069</td>\n",
       "      <td>0.905767</td>\n",
       "      <td>68.0279</td>\n",
       "      <td>0.0483</td>\n",
       "    </tr>\n",
       "    <tr>\n",
       "      <th>8</th>\n",
       "      <td>LightGBM</td>\n",
       "      <td>0.905106</td>\n",
       "      <td>0.904767</td>\n",
       "      <td>0.905106</td>\n",
       "      <td>0.904859</td>\n",
       "      <td>8.7731</td>\n",
       "      <td>0.0711</td>\n",
       "    </tr>\n",
       "    <tr>\n",
       "      <th>2</th>\n",
       "      <td>Random Forest</td>\n",
       "      <td>0.898121</td>\n",
       "      <td>0.897305</td>\n",
       "      <td>0.898121</td>\n",
       "      <td>0.897537</td>\n",
       "      <td>5.2210</td>\n",
       "      <td>0.1018</td>\n",
       "    </tr>\n",
       "    <tr>\n",
       "      <th>4</th>\n",
       "      <td>SVM (RBF)</td>\n",
       "      <td>0.883189</td>\n",
       "      <td>0.882230</td>\n",
       "      <td>0.883189</td>\n",
       "      <td>0.882603</td>\n",
       "      <td>15.5694</td>\n",
       "      <td>0.0137</td>\n",
       "    </tr>\n",
       "    <tr>\n",
       "      <th>3</th>\n",
       "      <td>SVM (Linear)</td>\n",
       "      <td>0.869701</td>\n",
       "      <td>0.868421</td>\n",
       "      <td>0.869701</td>\n",
       "      <td>0.868777</td>\n",
       "      <td>10.8462</td>\n",
       "      <td>-0.0029</td>\n",
       "    </tr>\n",
       "    <tr>\n",
       "      <th>0</th>\n",
       "      <td>Logistic Regression</td>\n",
       "      <td>0.863921</td>\n",
       "      <td>0.862367</td>\n",
       "      <td>0.863921</td>\n",
       "      <td>0.862864</td>\n",
       "      <td>1.0173</td>\n",
       "      <td>-0.0013</td>\n",
       "    </tr>\n",
       "    <tr>\n",
       "      <th>1</th>\n",
       "      <td>Decision Tree</td>\n",
       "      <td>0.839595</td>\n",
       "      <td>0.839947</td>\n",
       "      <td>0.839595</td>\n",
       "      <td>0.839534</td>\n",
       "      <td>0.3115</td>\n",
       "      <td>0.1603</td>\n",
       "    </tr>\n",
       "    <tr>\n",
       "      <th>6</th>\n",
       "      <td>KNN</td>\n",
       "      <td>0.793593</td>\n",
       "      <td>0.790631</td>\n",
       "      <td>0.793593</td>\n",
       "      <td>0.790766</td>\n",
       "      <td>0.3082</td>\n",
       "      <td>0.0574</td>\n",
       "    </tr>\n",
       "    <tr>\n",
       "      <th>5</th>\n",
       "      <td>Naive Bayes</td>\n",
       "      <td>0.775530</td>\n",
       "      <td>0.770976</td>\n",
       "      <td>0.775530</td>\n",
       "      <td>0.769140</td>\n",
       "      <td>0.0555</td>\n",
       "      <td>-0.0024</td>\n",
       "    </tr>\n",
       "  </tbody>\n",
       "</table>\n",
       "</div>"
      ],
      "text/plain": [
       "                 Model  Accuracy  Precision    Recall  F1-Score  \\\n",
       "7              XGBoost  0.907274   0.907043  0.907274  0.907052   \n",
       "9             CatBoost  0.906069   0.905557  0.906069  0.905767   \n",
       "8             LightGBM  0.905106   0.904767  0.905106  0.904859   \n",
       "2        Random Forest  0.898121   0.897305  0.898121  0.897537   \n",
       "4            SVM (RBF)  0.883189   0.882230  0.883189  0.882603   \n",
       "3         SVM (Linear)  0.869701   0.868421  0.869701  0.868777   \n",
       "0  Logistic Regression  0.863921   0.862367  0.863921  0.862864   \n",
       "1        Decision Tree  0.839595   0.839947  0.839595  0.839534   \n",
       "6                  KNN  0.793593   0.790631  0.793593  0.790766   \n",
       "5          Naive Bayes  0.775530   0.770976  0.775530  0.769140   \n",
       "\n",
       "   Train Time (s)  Overfitting  \n",
       "7          5.6426       0.0769  \n",
       "9         68.0279       0.0483  \n",
       "8          8.7731       0.0711  \n",
       "2          5.2210       0.1018  \n",
       "4         15.5694       0.0137  \n",
       "3         10.8462      -0.0029  \n",
       "0          1.0173      -0.0013  \n",
       "1          0.3115       0.1603  \n",
       "6          0.3082       0.0574  \n",
       "5          0.0555      -0.0024  "
      ]
     },
     "execution_count": 4,
     "metadata": {},
     "output_type": "execute_result"
    }
   ],
   "source": [
    "ml_benchmarks(X, y)"
   ]
  },
  {
   "cell_type": "markdown",
   "metadata": {},
   "source": [
    "# 5. TRY CUSTOM MANUAL PIPELINES\n",
    "As seen in benchmarking, XGBoost and Logistic Regression are the best performing models.\n",
    "Now we will try to create a custom pipeline for each of them and see if we can get better results."
   ]
  },
  {
   "cell_type": "code",
   "execution_count": 5,
   "metadata": {},
   "outputs": [],
   "source": [
    "custom_pipelines = {\n",
    "    'XGBoost (Ajustado)': Pipeline([\n",
    "        ('scaler', StandardScaler()),\n",
    "        ('clf', XGBClassifier(\n",
    "            n_estimators=150,\n",
    "            max_depth=4,\n",
    "            learning_rate=0.07,\n",
    "            subsample=0.9,\n",
    "            colsample_bytree=0.9,\n",
    "            reg_alpha=0.5,\n",
    "            reg_lambda=0.7,\n",
    "            use_label_encoder=False,\n",
    "            eval_metric='mlogloss',\n",
    "            random_state=42\n",
    "        ))\n",
    "    ]),\n",
    "\n",
    "    'Logistic Regression (Ajustado)': Pipeline([\n",
    "        ('scaler', StandardScaler()),\n",
    "        ('clf', LogisticRegression(\n",
    "            C= 20.0,  # <--- Aumentado desde 1.0 para reducir la regularización\n",
    "            penalty='l2',\n",
    "            class_weight='balanced',\n",
    "            max_iter=1000,\n",
    "            solver='lbfgs',\n",
    "            random_state=42\n",
    "        ))\n",
    "    ])\n",
    "}"
   ]
  },
  {
   "cell_type": "code",
   "execution_count": 6,
   "metadata": {},
   "outputs": [
    {
     "name": "stderr",
     "output_type": "stream",
     "text": [
      "c:\\Users\\Fernando\\VSC\\python\\dev\\p7-1\\multi-class_prediction_obesity_risk\\.venv\\Lib\\site-packages\\xgboost\\training.py:183: UserWarning: [11:14:42] WARNING: C:\\actions-runner\\_work\\xgboost\\xgboost\\src\\learner.cc:738: \n",
      "Parameters: { \"use_label_encoder\" } are not used.\n",
      "\n",
      "  bst.update(dtrain, iteration=i, fobj=obj)\n"
     ]
    },
    {
     "name": "stdout",
     "output_type": "stream",
     "text": [
      "+--------------------------------+--------------------+--------------------+--------------------+--------------------+----------------+-------------+\n",
      "|             Model              |      Accuracy      |     Precision      |       Recall       |      F1-Score      | Train Time (s) | Overfitting |\n",
      "+--------------------------------+--------------------+--------------------+--------------------+--------------------+----------------+-------------+\n",
      "|       XGBoost (Ajustado)       | 0.9053468208092486 | 0.9048472242502588 | 0.9053468208092486 | 0.9049623394462658 |    11.3042     |   0.0097    |\n",
      "| Logistic Regression (Ajustado) | 0.8639210019267822 | 0.8639142688637425 | 0.8639210019267822 | 0.8633476011203041 |     1.264      |   0.0002    |\n",
      "+--------------------------------+--------------------+--------------------+--------------------+--------------------+----------------+-------------+\n"
     ]
    }
   ],
   "source": [
    "results_df = custom_ml_benchmarks(X, y, models_dict=custom_pipelines)"
   ]
  },
  {
   "cell_type": "markdown",
   "metadata": {},
   "source": [
    "XGBoost seems to be the best performing model, so we will try to create a custom pipeline for it."
   ]
  },
  {
   "cell_type": "markdown",
   "metadata": {},
   "source": [
    "# 6. XGBOOST CUSTOM PIPELINE"
   ]
  },
  {
   "cell_type": "code",
   "execution_count": 7,
   "metadata": {},
   "outputs": [
    {
     "name": "stderr",
     "output_type": "stream",
     "text": [
      "[I 2025-05-23 11:14:55,197] A new study created in memory with name: no-name-8e7aad96-19fe-48c6-aa77-bf5c5a7c4b51\n",
      "c:\\Users\\Fernando\\VSC\\python\\dev\\p7-1\\multi-class_prediction_obesity_risk\\.venv\\Lib\\site-packages\\xgboost\\training.py:183: UserWarning: [11:14:55] WARNING: C:\\actions-runner\\_work\\xgboost\\xgboost\\src\\learner.cc:738: \n",
      "Parameters: { \"use_label_encoder\" } are not used.\n",
      "\n",
      "  bst.update(dtrain, iteration=i, fobj=obj)\n",
      "[I 2025-05-23 11:15:03,824] Trial 0 finished with value: 0.8986030828516378 and parameters: {'n_estimators': 252, 'max_depth': 8, 'learning_rate': 0.2012686268902643, 'subsample': 0.5549128978379396, 'colsample_bytree': 0.9723005110107931, 'gamma': 4.287770199603372, 'reg_alpha': 0.6169407429312445, 'reg_lambda': 0.16425982926661664}. Best is trial 0 with value: 0.8986030828516378.\n",
      "c:\\Users\\Fernando\\VSC\\python\\dev\\p7-1\\multi-class_prediction_obesity_risk\\.venv\\Lib\\site-packages\\xgboost\\training.py:183: UserWarning: [11:15:03] WARNING: C:\\actions-runner\\_work\\xgboost\\xgboost\\src\\learner.cc:738: \n",
      "Parameters: { \"use_label_encoder\" } are not used.\n",
      "\n",
      "  bst.update(dtrain, iteration=i, fobj=obj)\n",
      "[I 2025-05-23 11:15:12,908] Trial 1 finished with value: 0.8990847784200385 and parameters: {'n_estimators': 235, 'max_depth': 7, 'learning_rate': 0.028670737416182, 'subsample': 0.9128834449159913, 'colsample_bytree': 0.767369740274088, 'gamma': 3.818422499411547, 'reg_alpha': 0.16060075714368005, 'reg_lambda': 0.8006019853276924}. Best is trial 1 with value: 0.8990847784200385.\n",
      "c:\\Users\\Fernando\\VSC\\python\\dev\\p7-1\\multi-class_prediction_obesity_risk\\.venv\\Lib\\site-packages\\xgboost\\training.py:183: UserWarning: [11:15:13] WARNING: C:\\actions-runner\\_work\\xgboost\\xgboost\\src\\learner.cc:738: \n",
      "Parameters: { \"use_label_encoder\" } are not used.\n",
      "\n",
      "  bst.update(dtrain, iteration=i, fobj=obj)\n",
      "[I 2025-05-23 11:15:17,445] Trial 2 finished with value: 0.8983622350674374 and parameters: {'n_estimators': 94, 'max_depth': 8, 'learning_rate': 0.027404127783751793, 'subsample': 0.8445025669574627, 'colsample_bytree': 0.7096130432610563, 'gamma': 2.4429846332270975, 'reg_alpha': 0.03534731547587444, 'reg_lambda': 0.6898197082209709}. Best is trial 1 with value: 0.8990847784200385.\n",
      "c:\\Users\\Fernando\\VSC\\python\\dev\\p7-1\\multi-class_prediction_obesity_risk\\.venv\\Lib\\site-packages\\xgboost\\training.py:183: UserWarning: [11:15:17] WARNING: C:\\actions-runner\\_work\\xgboost\\xgboost\\src\\learner.cc:738: \n",
      "Parameters: { \"use_label_encoder\" } are not used.\n",
      "\n",
      "  bst.update(dtrain, iteration=i, fobj=obj)\n",
      "[I 2025-05-23 11:15:25,036] Trial 3 finished with value: 0.9087186897880539 and parameters: {'n_estimators': 256, 'max_depth': 10, 'learning_rate': 0.17753905796648353, 'subsample': 0.9031387799565733, 'colsample_bytree': 0.9800525041237181, 'gamma': 0.9427520224340802, 'reg_alpha': 0.7589753404986149, 'reg_lambda': 0.4431443134316708}. Best is trial 3 with value: 0.9087186897880539.\n",
      "c:\\Users\\Fernando\\VSC\\python\\dev\\p7-1\\multi-class_prediction_obesity_risk\\.venv\\Lib\\site-packages\\xgboost\\training.py:183: UserWarning: [11:15:25] WARNING: C:\\actions-runner\\_work\\xgboost\\xgboost\\src\\learner.cc:738: \n",
      "Parameters: { \"use_label_encoder\" } are not used.\n",
      "\n",
      "  bst.update(dtrain, iteration=i, fobj=obj)\n",
      "[I 2025-05-23 11:15:31,555] Trial 4 finished with value: 0.8916184971098265 and parameters: {'n_estimators': 120, 'max_depth': 6, 'learning_rate': 0.016129740697263188, 'subsample': 0.7794305819293554, 'colsample_bytree': 0.9286078376381747, 'gamma': 0.7641272319567738, 'reg_alpha': 0.2561227380813178, 'reg_lambda': 0.3011150991874233}. Best is trial 3 with value: 0.9087186897880539.\n",
      "c:\\Users\\Fernando\\VSC\\python\\dev\\p7-1\\multi-class_prediction_obesity_risk\\.venv\\Lib\\site-packages\\xgboost\\training.py:183: UserWarning: [11:15:31] WARNING: C:\\actions-runner\\_work\\xgboost\\xgboost\\src\\learner.cc:738: \n",
      "Parameters: { \"use_label_encoder\" } are not used.\n",
      "\n",
      "  bst.update(dtrain, iteration=i, fobj=obj)\n",
      "[I 2025-05-23 11:15:36,387] Trial 5 finished with value: 0.894990366088632 and parameters: {'n_estimators': 86, 'max_depth': 4, 'learning_rate': 0.0783435650399332, 'subsample': 0.5711707742652916, 'colsample_bytree': 0.7057368272192344, 'gamma': 3.6360484757180385, 'reg_alpha': 0.5205548930761351, 'reg_lambda': 0.7560651652988684}. Best is trial 3 with value: 0.9087186897880539.\n",
      "c:\\Users\\Fernando\\VSC\\python\\dev\\p7-1\\multi-class_prediction_obesity_risk\\.venv\\Lib\\site-packages\\xgboost\\training.py:183: UserWarning: [11:15:36] WARNING: C:\\actions-runner\\_work\\xgboost\\xgboost\\src\\learner.cc:738: \n",
      "Parameters: { \"use_label_encoder\" } are not used.\n",
      "\n",
      "  bst.update(dtrain, iteration=i, fobj=obj)\n",
      "[I 2025-05-23 11:15:44,700] Trial 6 finished with value: 0.9048651252408478 and parameters: {'n_estimators': 273, 'max_depth': 10, 'learning_rate': 0.2625381137884709, 'subsample': 0.7790382965913921, 'colsample_bytree': 0.7110257005542726, 'gamma': 1.9165205585464273, 'reg_alpha': 0.05378043934258592, 'reg_lambda': 0.44923494277965936}. Best is trial 3 with value: 0.9087186897880539.\n",
      "c:\\Users\\Fernando\\VSC\\python\\dev\\p7-1\\multi-class_prediction_obesity_risk\\.venv\\Lib\\site-packages\\xgboost\\training.py:183: UserWarning: [11:15:44] WARNING: C:\\actions-runner\\_work\\xgboost\\xgboost\\src\\learner.cc:738: \n",
      "Parameters: { \"use_label_encoder\" } are not used.\n",
      "\n",
      "  bst.update(dtrain, iteration=i, fobj=obj)\n",
      "[I 2025-05-23 11:16:04,972] Trial 7 finished with value: 0.910645472061657 and parameters: {'n_estimators': 279, 'max_depth': 3, 'learning_rate': 0.26695130321160443, 'subsample': 0.956152407941599, 'colsample_bytree': 0.8224383213113132, 'gamma': 0.7882071494158627, 'reg_alpha': 0.3651070225681783, 'reg_lambda': 0.8347000627631498}. Best is trial 7 with value: 0.910645472061657.\n",
      "c:\\Users\\Fernando\\VSC\\python\\dev\\p7-1\\multi-class_prediction_obesity_risk\\.venv\\Lib\\site-packages\\xgboost\\training.py:183: UserWarning: [11:16:05] WARNING: C:\\actions-runner\\_work\\xgboost\\xgboost\\src\\learner.cc:738: \n",
      "Parameters: { \"use_label_encoder\" } are not used.\n",
      "\n",
      "  bst.update(dtrain, iteration=i, fobj=obj)\n",
      "[I 2025-05-23 11:16:20,753] Trial 8 finished with value: 0.9087186897880539 and parameters: {'n_estimators': 162, 'max_depth': 6, 'learning_rate': 0.14272873004499675, 'subsample': 0.5984979137663643, 'colsample_bytree': 0.5286581921096658, 'gamma': 0.821167687252749, 'reg_alpha': 0.7537216998729147, 'reg_lambda': 0.11982807712177646}. Best is trial 7 with value: 0.910645472061657.\n",
      "c:\\Users\\Fernando\\VSC\\python\\dev\\p7-1\\multi-class_prediction_obesity_risk\\.venv\\Lib\\site-packages\\xgboost\\training.py:183: UserWarning: [11:16:20] WARNING: C:\\actions-runner\\_work\\xgboost\\xgboost\\src\\learner.cc:738: \n",
      "Parameters: { \"use_label_encoder\" } are not used.\n",
      "\n",
      "  bst.update(dtrain, iteration=i, fobj=obj)\n",
      "[I 2025-05-23 11:16:31,687] Trial 9 finished with value: 0.9024566473988439 and parameters: {'n_estimators': 274, 'max_depth': 3, 'learning_rate': 0.1413880992605182, 'subsample': 0.729120321371368, 'colsample_bytree': 0.840612781465848, 'gamma': 2.853683387705211, 'reg_alpha': 0.3046779520551116, 'reg_lambda': 0.021029972445636314}. Best is trial 7 with value: 0.910645472061657.\n",
      "c:\\Users\\Fernando\\VSC\\python\\dev\\p7-1\\multi-class_prediction_obesity_risk\\.venv\\Lib\\site-packages\\xgboost\\training.py:183: UserWarning: [11:16:31] WARNING: C:\\actions-runner\\_work\\xgboost\\xgboost\\src\\learner.cc:738: \n",
      "Parameters: { \"use_label_encoder\" } are not used.\n",
      "\n",
      "  bst.update(dtrain, iteration=i, fobj=obj)\n",
      "[I 2025-05-23 11:16:41,413] Trial 10 finished with value: 0.9096820809248555 and parameters: {'n_estimators': 205, 'max_depth': 4, 'learning_rate': 0.29812267271827597, 'subsample': 0.9802897456069556, 'colsample_bytree': 0.5818258131086227, 'gamma': 0.06563359209982544, 'reg_alpha': 0.38385765767901986, 'reg_lambda': 0.9775070897744245}. Best is trial 7 with value: 0.910645472061657.\n",
      "c:\\Users\\Fernando\\VSC\\python\\dev\\p7-1\\multi-class_prediction_obesity_risk\\.venv\\Lib\\site-packages\\xgboost\\training.py:183: UserWarning: [11:16:41] WARNING: C:\\actions-runner\\_work\\xgboost\\xgboost\\src\\learner.cc:738: \n",
      "Parameters: { \"use_label_encoder\" } are not used.\n",
      "\n",
      "  bst.update(dtrain, iteration=i, fobj=obj)\n",
      "[I 2025-05-23 11:16:49,557] Trial 11 finished with value: 0.9094412331406551 and parameters: {'n_estimators': 193, 'max_depth': 4, 'learning_rate': 0.29513172349995404, 'subsample': 0.9847347245314853, 'colsample_bytree': 0.5539685801977541, 'gamma': 0.019853082388901447, 'reg_alpha': 0.39782153494286965, 'reg_lambda': 0.986531213267815}. Best is trial 7 with value: 0.910645472061657.\n",
      "c:\\Users\\Fernando\\VSC\\python\\dev\\p7-1\\multi-class_prediction_obesity_risk\\.venv\\Lib\\site-packages\\xgboost\\training.py:183: UserWarning: [11:16:49] WARNING: C:\\actions-runner\\_work\\xgboost\\xgboost\\src\\learner.cc:738: \n",
      "Parameters: { \"use_label_encoder\" } are not used.\n",
      "\n",
      "  bst.update(dtrain, iteration=i, fobj=obj)\n",
      "[I 2025-05-23 11:16:56,713] Trial 12 finished with value: 0.911849710982659 and parameters: {'n_estimators': 202, 'max_depth': 3, 'learning_rate': 0.24265392326543248, 'subsample': 0.9903989641969655, 'colsample_bytree': 0.6198989057198357, 'gamma': 0.043744577866804746, 'reg_alpha': 0.9867330699559677, 'reg_lambda': 0.9652805735682909}. Best is trial 12 with value: 0.911849710982659.\n",
      "c:\\Users\\Fernando\\VSC\\python\\dev\\p7-1\\multi-class_prediction_obesity_risk\\.venv\\Lib\\site-packages\\xgboost\\training.py:183: UserWarning: [11:16:56] WARNING: C:\\actions-runner\\_work\\xgboost\\xgboost\\src\\learner.cc:738: \n",
      "Parameters: { \"use_label_encoder\" } are not used.\n",
      "\n",
      "  bst.update(dtrain, iteration=i, fobj=obj)\n",
      "[I 2025-05-23 11:17:17,187] Trial 13 finished with value: 0.9046242774566474 and parameters: {'n_estimators': 295, 'max_depth': 3, 'learning_rate': 0.2286040256703631, 'subsample': 0.9055397099082558, 'colsample_bytree': 0.6153773945824479, 'gamma': 1.5439126458238621, 'reg_alpha': 0.9751971904104414, 'reg_lambda': 0.6299221799039442}. Best is trial 12 with value: 0.911849710982659.\n",
      "c:\\Users\\Fernando\\VSC\\python\\dev\\p7-1\\multi-class_prediction_obesity_risk\\.venv\\Lib\\site-packages\\xgboost\\training.py:183: UserWarning: [11:17:17] WARNING: C:\\actions-runner\\_work\\xgboost\\xgboost\\src\\learner.cc:738: \n",
      "Parameters: { \"use_label_encoder\" } are not used.\n",
      "\n",
      "  bst.update(dtrain, iteration=i, fobj=obj)\n",
      "[I 2025-05-23 11:17:26,684] Trial 14 finished with value: 0.9067919075144508 and parameters: {'n_estimators': 155, 'max_depth': 5, 'learning_rate': 0.23848963600480028, 'subsample': 0.6835782703424493, 'colsample_bytree': 0.8272213823648756, 'gamma': 1.5150206397973518, 'reg_alpha': 0.997892533287784, 'reg_lambda': 0.8526152091971764}. Best is trial 12 with value: 0.911849710982659.\n",
      "c:\\Users\\Fernando\\VSC\\python\\dev\\p7-1\\multi-class_prediction_obesity_risk\\.venv\\Lib\\site-packages\\xgboost\\training.py:183: UserWarning: [11:17:26] WARNING: C:\\actions-runner\\_work\\xgboost\\xgboost\\src\\learner.cc:738: \n",
      "Parameters: { \"use_label_encoder\" } are not used.\n",
      "\n",
      "  bst.update(dtrain, iteration=i, fobj=obj)\n",
      "[I 2025-05-23 11:17:37,272] Trial 15 finished with value: 0.9084778420038536 and parameters: {'n_estimators': 223, 'max_depth': 3, 'learning_rate': 0.26523739456804435, 'subsample': 0.9907182089146452, 'colsample_bytree': 0.639058072720889, 'gamma': 0.42962137881271123, 'reg_alpha': 0.7549938064091879, 'reg_lambda': 0.5965399984389351}. Best is trial 12 with value: 0.911849710982659.\n",
      "c:\\Users\\Fernando\\VSC\\python\\dev\\p7-1\\multi-class_prediction_obesity_risk\\.venv\\Lib\\site-packages\\xgboost\\training.py:183: UserWarning: [11:17:37] WARNING: C:\\actions-runner\\_work\\xgboost\\xgboost\\src\\learner.cc:738: \n",
      "Parameters: { \"use_label_encoder\" } are not used.\n",
      "\n",
      "  bst.update(dtrain, iteration=i, fobj=obj)\n",
      "[I 2025-05-23 11:17:43,662] Trial 16 finished with value: 0.9072736030828517 and parameters: {'n_estimators': 144, 'max_depth': 5, 'learning_rate': 0.20586956558589847, 'subsample': 0.8538376983062541, 'colsample_bytree': 0.8758109140508512, 'gamma': 1.3220649843070968, 'reg_alpha': 0.5920851590482188, 'reg_lambda': 0.8769044804656191}. Best is trial 12 with value: 0.911849710982659.\n",
      "c:\\Users\\Fernando\\VSC\\python\\dev\\p7-1\\multi-class_prediction_obesity_risk\\.venv\\Lib\\site-packages\\xgboost\\training.py:183: UserWarning: [11:17:44] WARNING: C:\\actions-runner\\_work\\xgboost\\xgboost\\src\\learner.cc:738: \n",
      "Parameters: { \"use_label_encoder\" } are not used.\n",
      "\n",
      "  bst.update(dtrain, iteration=i, fobj=obj)\n",
      "[I 2025-05-23 11:17:54,260] Trial 17 finished with value: 0.9019749518304432 and parameters: {'n_estimators': 300, 'max_depth': 5, 'learning_rate': 0.25909356480315776, 'subsample': 0.9321452655240215, 'colsample_bytree': 0.7667208167238534, 'gamma': 2.2760382818914855, 'reg_alpha': 0.8246532849621457, 'reg_lambda': 0.9508467188504754}. Best is trial 12 with value: 0.911849710982659.\n",
      "c:\\Users\\Fernando\\VSC\\python\\dev\\p7-1\\multi-class_prediction_obesity_risk\\.venv\\Lib\\site-packages\\xgboost\\training.py:183: UserWarning: [11:17:54] WARNING: C:\\actions-runner\\_work\\xgboost\\xgboost\\src\\learner.cc:738: \n",
      "Parameters: { \"use_label_encoder\" } are not used.\n",
      "\n",
      "  bst.update(dtrain, iteration=i, fobj=obj)\n",
      "[I 2025-05-23 11:18:03,471] Trial 18 finished with value: 0.9077552986512524 and parameters: {'n_estimators': 192, 'max_depth': 3, 'learning_rate': 0.1104755983905367, 'subsample': 0.839689189807549, 'colsample_bytree': 0.6475793157921108, 'gamma': 0.34456382582778083, 'reg_alpha': 0.4662611313529321, 'reg_lambda': 0.7200803604402897}. Best is trial 12 with value: 0.911849710982659.\n",
      "c:\\Users\\Fernando\\VSC\\python\\dev\\p7-1\\multi-class_prediction_obesity_risk\\.venv\\Lib\\site-packages\\xgboost\\training.py:183: UserWarning: [11:18:03] WARNING: C:\\actions-runner\\_work\\xgboost\\xgboost\\src\\learner.cc:738: \n",
      "Parameters: { \"use_label_encoder\" } are not used.\n",
      "\n",
      "  bst.update(dtrain, iteration=i, fobj=obj)\n",
      "[I 2025-05-23 11:18:07,526] Trial 19 finished with value: 0.8959537572254336 and parameters: {'n_estimators': 60, 'max_depth': 4, 'learning_rate': 0.17838358218315875, 'subsample': 0.948354730191418, 'colsample_bytree': 0.8170403372295405, 'gamma': 4.8421271295016854, 'reg_alpha': 0.15664526537909018, 'reg_lambda': 0.5532422771981004}. Best is trial 12 with value: 0.911849710982659.\n",
      "c:\\Users\\Fernando\\VSC\\python\\dev\\p7-1\\multi-class_prediction_obesity_risk\\.venv\\Lib\\site-packages\\xgboost\\training.py:183: UserWarning: [11:18:07] WARNING: C:\\actions-runner\\_work\\xgboost\\xgboost\\src\\learner.cc:738: \n",
      "Parameters: { \"use_label_encoder\" } are not used.\n",
      "\n",
      "  bst.update(dtrain, iteration=i, fobj=obj)\n",
      "[I 2025-05-23 11:18:25,863] Trial 20 finished with value: 0.9017341040462428 and parameters: {'n_estimators': 223, 'max_depth': 7, 'learning_rate': 0.2278096107494654, 'subsample': 0.6495711185794799, 'colsample_bytree': 0.8992440655828684, 'gamma': 2.8533189900987725, 'reg_alpha': 0.89368597592958, 'reg_lambda': 0.8825653954242143}. Best is trial 12 with value: 0.911849710982659.\n",
      "c:\\Users\\Fernando\\VSC\\python\\dev\\p7-1\\multi-class_prediction_obesity_risk\\.venv\\Lib\\site-packages\\xgboost\\training.py:183: UserWarning: [11:18:26] WARNING: C:\\actions-runner\\_work\\xgboost\\xgboost\\src\\learner.cc:738: \n",
      "Parameters: { \"use_label_encoder\" } are not used.\n",
      "\n",
      "  bst.update(dtrain, iteration=i, fobj=obj)\n",
      "[I 2025-05-23 11:18:36,424] Trial 21 finished with value: 0.9077552986512524 and parameters: {'n_estimators': 191, 'max_depth': 4, 'learning_rate': 0.29529817098138944, 'subsample': 0.5016068081208029, 'colsample_bytree': 0.5820978263324332, 'gamma': 0.00951394336827327, 'reg_alpha': 0.37699658226416716, 'reg_lambda': 0.9782801525400818}. Best is trial 12 with value: 0.911849710982659.\n",
      "c:\\Users\\Fernando\\VSC\\python\\dev\\p7-1\\multi-class_prediction_obesity_risk\\.venv\\Lib\\site-packages\\xgboost\\training.py:183: UserWarning: [11:18:36] WARNING: C:\\actions-runner\\_work\\xgboost\\xgboost\\src\\learner.cc:738: \n",
      "Parameters: { \"use_label_encoder\" } are not used.\n",
      "\n",
      "  bst.update(dtrain, iteration=i, fobj=obj)\n",
      "[I 2025-05-23 11:18:47,133] Trial 22 finished with value: 0.9077552986512524 and parameters: {'n_estimators': 208, 'max_depth': 3, 'learning_rate': 0.2980061251097746, 'subsample': 0.9828226229368945, 'colsample_bytree': 0.5101741084089942, 'gamma': 0.4952266000641762, 'reg_alpha': 0.6269255566688456, 'reg_lambda': 0.9065126338334996}. Best is trial 12 with value: 0.911849710982659.\n",
      "c:\\Users\\Fernando\\VSC\\python\\dev\\p7-1\\multi-class_prediction_obesity_risk\\.venv\\Lib\\site-packages\\xgboost\\training.py:183: UserWarning: [11:18:47] WARNING: C:\\actions-runner\\_work\\xgboost\\xgboost\\src\\learner.cc:738: \n",
      "Parameters: { \"use_label_encoder\" } are not used.\n",
      "\n",
      "  bst.update(dtrain, iteration=i, fobj=obj)\n",
      "[I 2025-05-23 11:18:54,705] Trial 23 finished with value: 0.9024566473988439 and parameters: {'n_estimators': 173, 'max_depth': 4, 'learning_rate': 0.2708413500241598, 'subsample': 0.9999910716748219, 'colsample_bytree': 0.5917110490679712, 'gamma': 1.16944739013804, 'reg_alpha': 0.27946660959816083, 'reg_lambda': 0.807170627340774}. Best is trial 12 with value: 0.911849710982659.\n",
      "c:\\Users\\Fernando\\VSC\\python\\dev\\p7-1\\multi-class_prediction_obesity_risk\\.venv\\Lib\\site-packages\\xgboost\\training.py:183: UserWarning: [11:18:54] WARNING: C:\\actions-runner\\_work\\xgboost\\xgboost\\src\\learner.cc:738: \n",
      "Parameters: { \"use_label_encoder\" } are not used.\n",
      "\n",
      "  bst.update(dtrain, iteration=i, fobj=obj)\n",
      "[I 2025-05-23 11:19:14,680] Trial 24 finished with value: 0.9089595375722543 and parameters: {'n_estimators': 139, 'max_depth': 5, 'learning_rate': 0.2528930912954326, 'subsample': 0.8742632937202214, 'colsample_bytree': 0.6723539965579116, 'gamma': 0.039187016720733416, 'reg_alpha': 0.46399582378147125, 'reg_lambda': 0.9978287645831769}. Best is trial 12 with value: 0.911849710982659.\n",
      "c:\\Users\\Fernando\\VSC\\python\\dev\\p7-1\\multi-class_prediction_obesity_risk\\.venv\\Lib\\site-packages\\xgboost\\training.py:183: UserWarning: [11:19:15] WARNING: C:\\actions-runner\\_work\\xgboost\\xgboost\\src\\learner.cc:738: \n",
      "Parameters: { \"use_label_encoder\" } are not used.\n",
      "\n",
      "  bst.update(dtrain, iteration=i, fobj=obj)\n",
      "[I 2025-05-23 11:19:31,371] Trial 25 finished with value: 0.9099229287090559 and parameters: {'n_estimators': 247, 'max_depth': 3, 'learning_rate': 0.20973013591378797, 'subsample': 0.9449616902168274, 'colsample_bytree': 0.555151859177044, 'gamma': 0.5434656426902466, 'reg_alpha': 0.3499201974383028, 'reg_lambda': 0.68321737777556}. Best is trial 12 with value: 0.911849710982659.\n",
      "c:\\Users\\Fernando\\VSC\\python\\dev\\p7-1\\multi-class_prediction_obesity_risk\\.venv\\Lib\\site-packages\\xgboost\\training.py:183: UserWarning: [11:19:31] WARNING: C:\\actions-runner\\_work\\xgboost\\xgboost\\src\\learner.cc:738: \n",
      "Parameters: { \"use_label_encoder\" } are not used.\n",
      "\n",
      "  bst.update(dtrain, iteration=i, fobj=obj)\n",
      "[I 2025-05-23 11:19:42,927] Trial 26 finished with value: 0.9029383429672447 and parameters: {'n_estimators': 256, 'max_depth': 3, 'learning_rate': 0.20666769547921968, 'subsample': 0.942532224053725, 'colsample_bytree': 0.5456106243427365, 'gamma': 1.9438930910849659, 'reg_alpha': 0.18341088050240958, 'reg_lambda': 0.6760705762810586}. Best is trial 12 with value: 0.911849710982659.\n",
      "c:\\Users\\Fernando\\VSC\\python\\dev\\p7-1\\multi-class_prediction_obesity_risk\\.venv\\Lib\\site-packages\\xgboost\\training.py:183: UserWarning: [11:19:43] WARNING: C:\\actions-runner\\_work\\xgboost\\xgboost\\src\\learner.cc:738: \n",
      "Parameters: { \"use_label_encoder\" } are not used.\n",
      "\n",
      "  bst.update(dtrain, iteration=i, fobj=obj)\n",
      "[I 2025-05-23 11:19:55,931] Trial 27 finished with value: 0.9094412331406551 and parameters: {'n_estimators': 279, 'max_depth': 3, 'learning_rate': 0.19049282251884703, 'subsample': 0.8200869029947612, 'colsample_bytree': 0.8040303910282054, 'gamma': 0.611475649094806, 'reg_alpha': 0.5325751337961943, 'reg_lambda': 0.7765960075518964}. Best is trial 12 with value: 0.911849710982659.\n",
      "c:\\Users\\Fernando\\VSC\\python\\dev\\p7-1\\multi-class_prediction_obesity_risk\\.venv\\Lib\\site-packages\\xgboost\\training.py:183: UserWarning: [11:19:56] WARNING: C:\\actions-runner\\_work\\xgboost\\xgboost\\src\\learner.cc:738: \n",
      "Parameters: { \"use_label_encoder\" } are not used.\n",
      "\n",
      "  bst.update(dtrain, iteration=i, fobj=obj)\n",
      "[I 2025-05-23 11:20:08,730] Trial 28 finished with value: 0.9075144508670521 and parameters: {'n_estimators': 240, 'max_depth': 5, 'learning_rate': 0.2250518275814159, 'subsample': 0.8784259861861301, 'colsample_bytree': 0.7390024106729061, 'gamma': 1.164891922577807, 'reg_alpha': 0.6755152923366652, 'reg_lambda': 0.5155768748052174}. Best is trial 12 with value: 0.911849710982659.\n",
      "c:\\Users\\Fernando\\VSC\\python\\dev\\p7-1\\multi-class_prediction_obesity_risk\\.venv\\Lib\\site-packages\\xgboost\\training.py:183: UserWarning: [11:20:09] WARNING: C:\\actions-runner\\_work\\xgboost\\xgboost\\src\\learner.cc:738: \n",
      "Parameters: { \"use_label_encoder\" } are not used.\n",
      "\n",
      "  bst.update(dtrain, iteration=i, fobj=obj)\n",
      "[I 2025-05-23 11:20:22,833] Trial 29 finished with value: 0.9046242774566474 and parameters: {'n_estimators': 247, 'max_depth': 8, 'learning_rate': 0.15702104358854052, 'subsample': 0.9492036124738934, 'colsample_bytree': 0.9368726142364157, 'gamma': 1.8509004841208672, 'reg_alpha': 0.3077780336408125, 'reg_lambda': 0.30669013829307196}. Best is trial 12 with value: 0.911849710982659.\n",
      "c:\\Users\\Fernando\\VSC\\python\\dev\\p7-1\\multi-class_prediction_obesity_risk\\.venv\\Lib\\site-packages\\xgboost\\training.py:183: UserWarning: [11:20:22] WARNING: C:\\actions-runner\\_work\\xgboost\\xgboost\\src\\learner.cc:738: \n",
      "Parameters: { \"use_label_encoder\" } are not used.\n",
      "\n",
      "  bst.update(dtrain, iteration=i, fobj=obj)\n"
     ]
    }
   ],
   "source": [
    "optuna_pipeline, optuna_study, results, X_train, X_test, y_train, y_test = optimize_xgboost(X, y, n_trials=30)"
   ]
  },
  {
   "cell_type": "code",
   "execution_count": 8,
   "metadata": {},
   "outputs": [
    {
     "name": "stdout",
     "output_type": "stream",
     "text": [
      "+------------------+-------------------+--------------------+-------------------+-------------------+-------------+\n",
      "|      Model       |     Accuracy      |     Precision      |      Recall       |     F1-Score      | Overfitting |\n",
      "+------------------+-------------------+--------------------+-------------------+-------------------+-------------+\n",
      "| XGBoost (Optuna) | 0.911849710982659 | 0.9115518020067495 | 0.911849710982659 | 0.911526046549036 |   0.0214    |\n",
      "+------------------+-------------------+--------------------+-------------------+-------------------+-------------+\n"
     ]
    },
    {
     "data": {
      "text/plain": [
       "<Figure size 800x600 with 0 Axes>"
      ]
     },
     "metadata": {},
     "output_type": "display_data"
    },
    {
     "data": {
      "image/png": "[encoded data removed]",
      "text/plain": [
       "<Figure size 640x480 with 2 Axes>"
      ]
     },
     "metadata": {},
     "output_type": "display_data"
    },
    {
     "data": {
      "image/png": "[encoded data removed]",
      "text/plain": [
       "<Figure size 1000x800 with 1 Axes>"
      ]
     },
     "metadata": {},
     "output_type": "display_data"
    },
    {
     "data": {
      "image/png": "[encoded data removed]",
      "text/plain": [
       "<Figure size 1000x600 with 1 Axes>"
      ]
     },
     "metadata": {},
     "output_type": "display_data"
    }
   ],
   "source": [
    "# ==== Final Model Evaluation: Classification Report ====\n",
    "print(tabulate(results, headers='keys', tablefmt='pretty'))\n",
    "# ==== Final Model Evaluation: Visualizations ====\n",
    "\n",
    "# Confusion Matrix\n",
    "from sklearn.metrics import confusion_matrix, ConfusionMatrixDisplay\n",
    "\n",
    "y_pred = optuna_pipeline.predict(X_test)\n",
    "\n",
    "cm = confusion_matrix(y_test, y_pred)\n",
    "disp = ConfusionMatrixDisplay(confusion_matrix=cm, display_labels=optuna_pipeline.classes_)\n",
    "\n",
    "plt.figure(figsize=(8, 6))\n",
    "disp.plot(cmap=plt.cm.Blues, values_format='d')\n",
    "plt.title(\"Confusion Matrix\")\n",
    "plt.show()\n",
    "\n",
    "# Multiclass ROC Curve\n",
    "from sklearn.preprocessing import label_binarize\n",
    "from sklearn.metrics import roc_curve, auc\n",
    "\n",
    "classes = np.unique(y_test)\n",
    "y_test_bin = label_binarize(y_test, classes=classes)\n",
    "n_classes = y_test_bin.shape[1]\n",
    "y_score = optuna_pipeline.predict_proba(X_test)\n",
    "\n",
    "plt.figure(figsize=(10, 8))\n",
    "for i in range(n_classes):\n",
    "    fpr, tpr, _ = roc_curve(y_test_bin[:, i], y_score[:, i])\n",
    "    roc_auc = auc(fpr, tpr)\n",
    "    plt.plot(fpr, tpr, label=f'{classes[i]} (AUC = {roc_auc:.2f})')\n",
    "\n",
    "plt.plot([0, 1], [0, 1], 'k--')\n",
    "plt.xlabel('False Positive Rate')\n",
    "plt.ylabel('True Positive Rate')\n",
    "plt.title('Multiclass ROC Curve')\n",
    "plt.legend(loc='lower right')\n",
    "plt.grid(True)\n",
    "plt.show()\n",
    "\n",
    "# Feature Importance for XGBoost\n",
    "feature_names = X_train.columns\n",
    "xgb_model = optuna_pipeline.named_steps['classifier']\n",
    "importances = xgb_model.feature_importances_\n",
    "\n",
    "feat_imp = pd.DataFrame({'Feature': feature_names, 'Importance': importances})\n",
    "feat_imp = feat_imp.sort_values(by='Importance', ascending=False)\n",
    "\n",
    "plt.figure(figsize=(10, 6))\n",
    "plt.barh(feat_imp['Feature'], feat_imp['Importance'], color='lightcoral')\n",
    "plt.gca().invert_yaxis()\n",
    "plt.xlabel('Importance')\n",
    "plt.title('XGBoost Feature Importance')\n",
    "plt.tight_layout()\n",
    "plt.show()\n"
   ]
  },
  {
   "cell_type": "markdown",
   "metadata": {},
   "source": [
    "# 7. TRAIN MODEL"
   ]
  },
  {
   "cell_type": "code",
   "execution_count": 9,
   "metadata": {},
   "outputs": [],
   "source": [
    "# y_pred = optuna_pipeline.predict(X)\n",
    "# y_proba = optuna_pipeline.predict_proba(X)\n"
   ]
  },
  {
   "cell_type": "markdown",
   "metadata": {},
   "source": [
    "# 8. EXPORT MODEL"
   ]
  },
  {
   "cell_type": "code",
   "execution_count": 10,
   "metadata": {},
   "outputs": [],
   "source": [
    "\n",
    "# current_dir = os.getcwd()\n",
    "# model_pkl_filename = \"xgboost_optuna_pipeline.pkl\"\n",
    "# model_pkl_path = os.path.join(current_dir, \"pkl\",model_pkl_filename)\n",
    "\n",
    "# joblib.dump(optuna_pipeline, model_pkl_path)\n",
    "\n",
    "# print(f\"✔️ Modelo guardado en: {model_pkl_path}\")"
   ]
  }
 ],
 "metadata": {
  "kernelspec": {
   "display_name": ".venv",
   "language": "python",
   "name": "python3"
  },
  "language_info": {
   "codemirror_mode": {
    "name": "ipython",
    "version": 3
   },
   "file_extension": ".py",
   "mimetype": "text/x-python",
   "name": "python",
   "nbconvert_exporter": "python",
   "pygments_lexer": "ipython3",
   "version": "3.13.1"
  }
 },
 "nbformat": 4,
 "nbformat_minor": 2
}
